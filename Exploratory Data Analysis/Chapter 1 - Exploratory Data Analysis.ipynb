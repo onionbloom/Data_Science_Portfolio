{
 "cells": [
  {
   "cell_type": "markdown",
   "metadata": {},
   "source": [
    "### __Structured Data__"
   ]
  },
  {
   "cell_type": "markdown",
   "metadata": {},
   "source": [
    "__*Numeric*__<br>\n",
    "Data that are expressed on a numeric scale.\n",
    "\n",
    "__Continuous:__ Data that can take on any value in an interval. <br>\n",
    "__Discrete:__ Data that can take on only intger values, such as counts.\n",
    "\n",
    "__*Categorical*__<br>\n",
    "Data that can take on only a specific set of values representing a set of possible categories.\n",
    "\n",
    "__Binary:__ A special case of categorical data with just two categories of values (*e.g.* 0 or 1, True or False). <br>\n",
    "__Ordinal:__ Categorical data that has an explicit ordering\n",
    "\n",
    "The basic data structure in data science is a rectangular matrix in which rows are records and columns are variables.\n",
    "\n",
    "There are other data structures besides rectangular data. *Time series* records successive measurements of the same variable. It is the raw material for statistical forecasting methods, and a key component of the data produced by devices, sensors, etc.\n",
    "\n",
    "*Spatial* data structures are used in mapping and location analytics.\n",
    "\n",
    "*Graph* (or network) data structure are used to represent physical, social, and abstract relationships. Used to represent social network like Facebook or LinkedIn connections between people."
   ]
  },
  {
   "cell_type": "markdown",
   "metadata": {},
   "source": [
    "### __Estimates of Location__"
   ]
  },
  {
   "cell_type": "markdown",
   "metadata": {},
   "source": [
    "Variables with measured or count data may have thousands of distinct values. A basic step in exploring your data is getting a \"typical value\" of each variable: gives an etimate where most of the data is located.\n",
    "\n",
    "__*Mean*__ <br>\n",
    "The sum of all values divided by the number of values.\n",
    "*Synonym:* Average\n",
    "\n",
    "__*Weighted Mean*__ <br>\n",
    "The sum of all values times a weight devided by the sum of the weights.\n",
    "*Synonym:* Weighted average\n",
    "\n",
    "__*Median*__ <br>\n",
    "The value such that one-half of the data lies above and below.\n",
    "*Synonym:* 50th percentile\n",
    "\n",
    "__*Percentile*__ <br>\n",
    "The value such that P percent of the data lies below\n",
    "*Synonym:* Quantile\n",
    "\n",
    "__*Weighted median*__<br>\n",
    "The value such that one-half of the sum of the weights lies above and below the sorted data.\n",
    "\n",
    "__*Trimmed mean*__ <br>\n",
    "The average of all values after dropping a fixed number of extreme values.\n",
    "*Synonym:* Truncated mean\n",
    "\n",
    "__*Robust*__\n",
    "Not sensitive to extreme values.\n",
    "*Synonym:* Resistant\n",
    "\n",
    "__*Outlier*__ <br>\n",
    "A data value that is very different from most of the data.\n",
    "*Synonym:* extreme value\n",
    "\n",
    "The basic metric for location is the mean, but it can be sensitive to extreme values (outliers). The other metrics (median, trimmed mean) are less sensitive to outliers and unusual distributions. Hence, they are more robust."
   ]
  },
  {
   "cell_type": "code",
   "execution_count": 2,
   "metadata": {},
   "outputs": [
    {
     "name": "stderr",
     "output_type": "stream",
     "text": [
      "Matplotlib is building the font cache; this may take a moment.\n"
     ]
    },
    {
     "data": {
      "text/html": [
       "<div>\n",
       "<style scoped>\n",
       "    .dataframe tbody tr th:only-of-type {\n",
       "        vertical-align: middle;\n",
       "    }\n",
       "\n",
       "    .dataframe tbody tr th {\n",
       "        vertical-align: top;\n",
       "    }\n",
       "\n",
       "    .dataframe thead th {\n",
       "        text-align: right;\n",
       "    }\n",
       "</style>\n",
       "<table border=\"1\" class=\"dataframe\">\n",
       "  <thead>\n",
       "    <tr style=\"text-align: right;\">\n",
       "      <th></th>\n",
       "      <th>Country</th>\n",
       "      <th>Gold Medal</th>\n",
       "      <th>Silver Medal</th>\n",
       "      <th>Bronze Medal</th>\n",
       "      <th>Total</th>\n",
       "      <th>Rank By Total</th>\n",
       "    </tr>\n",
       "  </thead>\n",
       "  <tbody>\n",
       "    <tr>\n",
       "      <th>0</th>\n",
       "      <td>United States of America</td>\n",
       "      <td>39</td>\n",
       "      <td>41</td>\n",
       "      <td>33</td>\n",
       "      <td>113</td>\n",
       "      <td>1</td>\n",
       "    </tr>\n",
       "    <tr>\n",
       "      <th>1</th>\n",
       "      <td>People's Republic of China</td>\n",
       "      <td>38</td>\n",
       "      <td>32</td>\n",
       "      <td>18</td>\n",
       "      <td>88</td>\n",
       "      <td>2</td>\n",
       "    </tr>\n",
       "    <tr>\n",
       "      <th>2</th>\n",
       "      <td>Japan</td>\n",
       "      <td>27</td>\n",
       "      <td>14</td>\n",
       "      <td>17</td>\n",
       "      <td>58</td>\n",
       "      <td>5</td>\n",
       "    </tr>\n",
       "    <tr>\n",
       "      <th>3</th>\n",
       "      <td>Great Britain</td>\n",
       "      <td>22</td>\n",
       "      <td>21</td>\n",
       "      <td>22</td>\n",
       "      <td>65</td>\n",
       "      <td>4</td>\n",
       "    </tr>\n",
       "    <tr>\n",
       "      <th>4</th>\n",
       "      <td>ROC</td>\n",
       "      <td>20</td>\n",
       "      <td>28</td>\n",
       "      <td>23</td>\n",
       "      <td>71</td>\n",
       "      <td>3</td>\n",
       "    </tr>\n",
       "    <tr>\n",
       "      <th>...</th>\n",
       "      <td>...</td>\n",
       "      <td>...</td>\n",
       "      <td>...</td>\n",
       "      <td>...</td>\n",
       "      <td>...</td>\n",
       "      <td>...</td>\n",
       "    </tr>\n",
       "    <tr>\n",
       "      <th>88</th>\n",
       "      <td>Ghana</td>\n",
       "      <td>0</td>\n",
       "      <td>0</td>\n",
       "      <td>1</td>\n",
       "      <td>1</td>\n",
       "      <td>77</td>\n",
       "    </tr>\n",
       "    <tr>\n",
       "      <th>89</th>\n",
       "      <td>Grenada</td>\n",
       "      <td>0</td>\n",
       "      <td>0</td>\n",
       "      <td>1</td>\n",
       "      <td>1</td>\n",
       "      <td>77</td>\n",
       "    </tr>\n",
       "    <tr>\n",
       "      <th>90</th>\n",
       "      <td>Kuwait</td>\n",
       "      <td>0</td>\n",
       "      <td>0</td>\n",
       "      <td>1</td>\n",
       "      <td>1</td>\n",
       "      <td>77</td>\n",
       "    </tr>\n",
       "    <tr>\n",
       "      <th>91</th>\n",
       "      <td>Republic of Moldova</td>\n",
       "      <td>0</td>\n",
       "      <td>0</td>\n",
       "      <td>1</td>\n",
       "      <td>1</td>\n",
       "      <td>77</td>\n",
       "    </tr>\n",
       "    <tr>\n",
       "      <th>92</th>\n",
       "      <td>Syrian Arab Republic</td>\n",
       "      <td>0</td>\n",
       "      <td>0</td>\n",
       "      <td>1</td>\n",
       "      <td>1</td>\n",
       "      <td>77</td>\n",
       "    </tr>\n",
       "  </tbody>\n",
       "</table>\n",
       "<p>93 rows × 6 columns</p>\n",
       "</div>"
      ],
      "text/plain": [
       "                       Country  Gold Medal  Silver Medal  Bronze Medal  Total  \\\n",
       "0     United States of America          39            41            33    113   \n",
       "1   People's Republic of China          38            32            18     88   \n",
       "2                        Japan          27            14            17     58   \n",
       "3                Great Britain          22            21            22     65   \n",
       "4                          ROC          20            28            23     71   \n",
       "..                         ...         ...           ...           ...    ...   \n",
       "88                       Ghana           0             0             1      1   \n",
       "89                     Grenada           0             0             1      1   \n",
       "90                      Kuwait           0             0             1      1   \n",
       "91         Republic of Moldova           0             0             1      1   \n",
       "92        Syrian Arab Republic           0             0             1      1   \n",
       "\n",
       "    Rank By Total  \n",
       "0               1  \n",
       "1               2  \n",
       "2               5  \n",
       "3               4  \n",
       "4               3  \n",
       "..            ...  \n",
       "88             77  \n",
       "89             77  \n",
       "90             77  \n",
       "91             77  \n",
       "92             77  \n",
       "\n",
       "[93 rows x 6 columns]"
      ]
     },
     "execution_count": 2,
     "metadata": {},
     "output_type": "execute_result"
    }
   ],
   "source": [
    "import pandas as pd\n",
    "import numpy as np\n",
    "from numpy import mean, median, absolute\n",
    "from scipy.stats import trim_mean\n",
    "from statistics import variance, stdev\n",
    "import matplotlib.pyplot as plt\n",
    "\n",
    "# Practicing on a Tokyo 2020 Olympics medals count dataset from kaggle:\n",
    "# https://www.kaggle.com/berkayalan/2021-olympics-medals-in-tokyo/version/9\n",
    "\n",
    "medal_count = pd.read_csv(\"Tokyo Medals 2021.csv\")\n",
    "medal_count\n"
   ]
  },
  {
   "cell_type": "code",
   "execution_count": 3,
   "metadata": {},
   "outputs": [
    {
     "data": {
      "text/plain": [
       "11.612903225806452"
      ]
     },
     "execution_count": 3,
     "metadata": {},
     "output_type": "execute_result"
    }
   ],
   "source": [
    "# Estimates of Location\n",
    "# Mean of the total count of medals\n",
    "medal_count[\"Total\"].mean()"
   ]
  },
  {
   "cell_type": "code",
   "execution_count": 4,
   "metadata": {},
   "outputs": [
    {
     "data": {
      "text/plain": [
       "46.832352941176474"
      ]
     },
     "execution_count": 4,
     "metadata": {},
     "output_type": "execute_result"
    }
   ],
   "source": [
    "# Weighted mean with numpy\n",
    "np.average(medal_count[\"Total\"], weights=medal_count[\"Gold Medal\"])"
   ]
  },
  {
   "cell_type": "code",
   "execution_count": 5,
   "metadata": {},
   "outputs": [
    {
     "data": {
      "text/plain": [
       "6.8933333333333335"
      ]
     },
     "execution_count": 5,
     "metadata": {},
     "output_type": "execute_result"
    }
   ],
   "source": [
    "# Trimmed mean (calling 0.1 as the proportioncut means leaving out the top-most and bottom-most 10%)\n",
    "trim_mean(medal_count[\"Total\"], 0.1)"
   ]
  },
  {
   "cell_type": "code",
   "execution_count": 6,
   "metadata": {},
   "outputs": [
    {
     "data": {
      "text/plain": [
       "4.0"
      ]
     },
     "execution_count": 6,
     "metadata": {},
     "output_type": "execute_result"
    }
   ],
   "source": [
    "# Median\n",
    "medal_count[\"Total\"].median()"
   ]
  },
  {
   "cell_type": "code",
   "execution_count": 7,
   "metadata": {},
   "outputs": [
    {
     "data": {
      "text/plain": [
       "11.0"
      ]
     },
     "execution_count": 7,
     "metadata": {},
     "output_type": "execute_result"
    }
   ],
   "source": [
    "# Percentile (75th)\n",
    "np.percentile(medal_count[\"Total\"], 75)"
   ]
  },
  {
   "cell_type": "code",
   "execution_count": 8,
   "metadata": {},
   "outputs": [
    {
     "data": {
      "text/html": [
       "<div>\n",
       "<style scoped>\n",
       "    .dataframe tbody tr th:only-of-type {\n",
       "        vertical-align: middle;\n",
       "    }\n",
       "\n",
       "    .dataframe tbody tr th {\n",
       "        vertical-align: top;\n",
       "    }\n",
       "\n",
       "    .dataframe thead th {\n",
       "        text-align: right;\n",
       "    }\n",
       "</style>\n",
       "<table border=\"1\" class=\"dataframe\">\n",
       "  <thead>\n",
       "    <tr style=\"text-align: right;\">\n",
       "      <th></th>\n",
       "      <th>Gold Medal</th>\n",
       "      <th>Silver Medal</th>\n",
       "      <th>Bronze Medal</th>\n",
       "      <th>Total</th>\n",
       "      <th>Rank By Total</th>\n",
       "    </tr>\n",
       "  </thead>\n",
       "  <tbody>\n",
       "    <tr>\n",
       "      <th>count</th>\n",
       "      <td>93.000000</td>\n",
       "      <td>93.000000</td>\n",
       "      <td>93.000000</td>\n",
       "      <td>93.000000</td>\n",
       "      <td>93.000000</td>\n",
       "    </tr>\n",
       "    <tr>\n",
       "      <th>mean</th>\n",
       "      <td>3.655914</td>\n",
       "      <td>3.634409</td>\n",
       "      <td>4.322581</td>\n",
       "      <td>11.612903</td>\n",
       "      <td>43.494624</td>\n",
       "    </tr>\n",
       "    <tr>\n",
       "      <th>std</th>\n",
       "      <td>7.022471</td>\n",
       "      <td>6.626339</td>\n",
       "      <td>6.210372</td>\n",
       "      <td>19.091332</td>\n",
       "      <td>24.171769</td>\n",
       "    </tr>\n",
       "    <tr>\n",
       "      <th>min</th>\n",
       "      <td>0.000000</td>\n",
       "      <td>0.000000</td>\n",
       "      <td>0.000000</td>\n",
       "      <td>1.000000</td>\n",
       "      <td>1.000000</td>\n",
       "    </tr>\n",
       "    <tr>\n",
       "      <th>25%</th>\n",
       "      <td>0.000000</td>\n",
       "      <td>0.000000</td>\n",
       "      <td>1.000000</td>\n",
       "      <td>2.000000</td>\n",
       "      <td>23.000000</td>\n",
       "    </tr>\n",
       "    <tr>\n",
       "      <th>50%</th>\n",
       "      <td>1.000000</td>\n",
       "      <td>1.000000</td>\n",
       "      <td>2.000000</td>\n",
       "      <td>4.000000</td>\n",
       "      <td>47.000000</td>\n",
       "    </tr>\n",
       "    <tr>\n",
       "      <th>75%</th>\n",
       "      <td>3.000000</td>\n",
       "      <td>4.000000</td>\n",
       "      <td>5.000000</td>\n",
       "      <td>11.000000</td>\n",
       "      <td>66.000000</td>\n",
       "    </tr>\n",
       "    <tr>\n",
       "      <th>max</th>\n",
       "      <td>39.000000</td>\n",
       "      <td>41.000000</td>\n",
       "      <td>33.000000</td>\n",
       "      <td>113.000000</td>\n",
       "      <td>77.000000</td>\n",
       "    </tr>\n",
       "  </tbody>\n",
       "</table>\n",
       "</div>"
      ],
      "text/plain": [
       "       Gold Medal  Silver Medal  Bronze Medal       Total  Rank By Total\n",
       "count   93.000000     93.000000     93.000000   93.000000      93.000000\n",
       "mean     3.655914      3.634409      4.322581   11.612903      43.494624\n",
       "std      7.022471      6.626339      6.210372   19.091332      24.171769\n",
       "min      0.000000      0.000000      0.000000    1.000000       1.000000\n",
       "25%      0.000000      0.000000      1.000000    2.000000      23.000000\n",
       "50%      1.000000      1.000000      2.000000    4.000000      47.000000\n",
       "75%      3.000000      4.000000      5.000000   11.000000      66.000000\n",
       "max     39.000000     41.000000     33.000000  113.000000      77.000000"
      ]
     },
     "execution_count": 8,
     "metadata": {},
     "output_type": "execute_result"
    }
   ],
   "source": [
    "# Pandas has a method that can quickly output some of the above location estimates with .describe()\n",
    "medal_count.describe()"
   ]
  },
  {
   "cell_type": "markdown",
   "metadata": {},
   "source": [
    "### __Estimates of Variability__"
   ]
  },
  {
   "cell_type": "markdown",
   "metadata": {},
   "source": [
    "The most used estimates of variation are based on the differences / *deviations* between the estimate of location and the observed data.\n",
    "\n",
    "Consider a set of data: `[1, 4, 4]`\n",
    "The mean is 3, and the median is 4. the deviations from the mean are:<br>\n",
    "`1 - 3 = -2` <br>\n",
    "`4 - 3 = 1` <br>\n",
    "`4 - 3 = 1` <br>\n",
    "These deviations tell us how dispersed the data is around the central value.\n",
    "\n",
    "You can measure the variability by estimating a typical value for the deviations. A simple approach is to take the average of the absolute values of the deviations from the mean. From the previous example, the absolute values of the deviations are: `[2, 1, 1]`. Their average is (2 + 1 + 1)/3 = 1.33. This is called the __*mean absolute deviation*__.\n",
    "\n",
    "The best-known estimates of variability are:<br>\n",
    " __*variance*__<br>\n",
    "An average of the squared deviations; often denoted as $s^2$\n",
    "\n",
    "<font size=3>$$s^{2}=\\frac{\\sum\\limits_{n}^{i=1}|x_{i}-\\overline{x}|}{n-1}$$</font>\n",
    "\n",
    " __*standard deviation*__<br>\n",
    " The square root of the variance; often denoted as $s$.\n",
    " <font size=3>$$s=\\sqrt{Variance}$$</font>\n",
    "\n",
    " None of the above estimates of variability are robust to outliers. The variance and standard deviations are especially sensitive to outliers since they are based on the squared deviations."
   ]
  },
  {
   "cell_type": "code",
   "execution_count": 9,
   "metadata": {},
   "outputs": [
    {
     "data": {
      "text/plain": [
       "49.315100514259"
      ]
     },
     "execution_count": 9,
     "metadata": {},
     "output_type": "execute_result"
    }
   ],
   "source": [
    "# Variance\n",
    "variance(medal_count[\"Gold Medal\"])"
   ]
  },
  {
   "cell_type": "code",
   "execution_count": 10,
   "metadata": {},
   "outputs": [
    {
     "data": {
      "text/plain": [
       "7.022471111671376"
      ]
     },
     "execution_count": 10,
     "metadata": {},
     "output_type": "execute_result"
    }
   ],
   "source": [
    "# Standard deviation\n",
    "stdev(medal_count[\"Gold Medal\"])"
   ]
  },
  {
   "cell_type": "code",
   "execution_count": 11,
   "metadata": {},
   "outputs": [
    {
     "data": {
      "text/plain": [
       "4.0048560527228485"
      ]
     },
     "execution_count": 11,
     "metadata": {},
     "output_type": "execute_result"
    }
   ],
   "source": [
    "# Mean absolute deviation\n",
    "mean(absolute(medal_count[\"Gold Medal\"] - mean(medal_count[\"Gold Medal\"])))"
   ]
  },
  {
   "cell_type": "code",
   "execution_count": 12,
   "metadata": {},
   "outputs": [
    {
     "data": {
      "text/plain": [
       "1.0"
      ]
     },
     "execution_count": 12,
     "metadata": {},
     "output_type": "execute_result"
    }
   ],
   "source": [
    "# Mean absolute deviation\n",
    "median(absolute(medal_count[\"Gold Medal\"] - median(medal_count[\"Gold Medal\"])))"
   ]
  },
  {
   "cell_type": "markdown",
   "metadata": {},
   "source": [
    "### __Exploring the Data Distribution__"
   ]
  },
  {
   "cell_type": "markdown",
   "metadata": {},
   "source": [
    "Contrasting to estimating the data in a single number to describe the location and variability, it is also useful to explore how the data is distributed overall.\n",
    "\n",
    "__*Boxplot*__ <br>\n",
    "A plot introduced by Turkey as a quick way to visualize the distribution of data. *Synonym:* box and whiskers plot\n",
    "\n",
    "__*Frequency table*__ <br>\n",
    "A tally of the count of numeric data values that fall into a set of intervals (bins).\n",
    "\n",
    "__*Histogram*__ <br>\n",
    "A plot of the frequecy table with the bins on the x-axis and the count on the y-axis. While visually similar, bar charts should not be confused with histograms.\n",
    "\n",
    "__*Density plot*__ <br>\n",
    "A smoothed version of the histogram, often based on a *kernel density estimate*. Shows the distribution of the data values as a continuous  line."
   ]
  },
  {
   "cell_type": "code",
   "execution_count": 13,
   "metadata": {},
   "outputs": [
    {
     "data": {
      "text/plain": [
       "<AxesSubplot:>"
      ]
     },
     "execution_count": 13,
     "metadata": {},
     "output_type": "execute_result"
    },
    {
     "data": {
      "image/png": "[encoded data removed]",
      "text/plain": [
       "<Figure size 432x288 with 1 Axes>"
      ]
     },
     "metadata": {
      "needs_background": "light"
     },
     "output_type": "display_data"
    }
   ],
   "source": [
    "# Box plot using pandas .boxplot() method\n",
    "medal_count.boxplot(column=[\"Gold Medal\", \"Silver Medal\", \"Bronze Medal\"])"
   ]
  },
  {
   "cell_type": "markdown",
   "metadata": {},
   "source": [
    "Percentiles are also valuable in summarizing the distribution (common to express the quartiles, and deciles). Expecially useful for summarizing the *tails* of the distribution.\n",
    "In python you can use numpy's .percentile() or pandas' .quantile() methods to see the percentiles"
   ]
  },
  {
   "cell_type": "code",
   "execution_count": 14,
   "metadata": {},
   "outputs": [
    {
     "data": {
      "text/plain": [
       "(-0.039, 3.9]    72\n",
       "(3.9, 7.8]       11\n",
       "(7.8, 11.7]       4\n",
       "(19.5, 23.4]      2\n",
       "(35.1, 39.0]      2\n",
       "(15.6, 19.5]      1\n",
       "(23.4, 27.3]      1\n",
       "(11.7, 15.6]      0\n",
       "(27.3, 31.2]      0\n",
       "(31.2, 35.1]      0\n",
       "Name: Gold Medal, dtype: int64"
      ]
     },
     "execution_count": 14,
     "metadata": {},
     "output_type": "execute_result"
    }
   ],
   "source": [
    "# Frequency table\n",
    "pd.cut(medal_count[\"Gold Medal\"], 10).value_counts()"
   ]
  },
  {
   "cell_type": "code",
   "execution_count": 15,
   "metadata": {},
   "outputs": [
    {
     "data": {
      "text/plain": [
       "(array([72., 11.,  4.,  0.,  1.,  2.,  1.,  0.,  0.,  2.]),\n",
       " array([ 0. ,  3.9,  7.8, 11.7, 15.6, 19.5, 23.4, 27.3, 31.2, 35.1, 39. ]),\n",
       " <BarContainer object of 10 artists>)"
      ]
     },
     "execution_count": 15,
     "metadata": {},
     "output_type": "execute_result"
    },
    {
     "data": {
      "image/png": "[encoded data removed]",
      "text/plain": [
       "<Figure size 432x288 with 1 Axes>"
      ]
     },
     "metadata": {
      "needs_background": "light"
     },
     "output_type": "display_data"
    }
   ],
   "source": [
    "# Histogram\n",
    "plt.hist(x=medal_count[\"Gold Medal\"], bins=10, color=\"#CBC3E3\", rwidth=0.95)"
   ]
  },
  {
   "cell_type": "code",
   "execution_count": 16,
   "metadata": {},
   "outputs": [
    {
     "data": {
      "text/plain": [
       "<AxesSubplot:ylabel='Density'>"
      ]
     },
     "execution_count": 16,
     "metadata": {},
     "output_type": "execute_result"
    },
    {
     "data": {
      "image/png": "[encoded data removed]",
      "text/plain": [
       "<Figure size 432x288 with 1 Axes>"
      ]
     },
     "metadata": {
      "needs_background": "light"
     },
     "output_type": "display_data"
    }
   ],
   "source": [
    "# Density plot\n",
    "ax = medal_count[\"Gold Medal\"].plot.hist(density=True, xlim=[0,12], bins=range(1,12), rwidth=.95)\n",
    "medal_count[\"Gold Medal\"].plot.density(ax=ax)"
   ]
  },
  {
   "cell_type": "markdown",
   "metadata": {},
   "source": [
    "### __Exploring Binary and Categorical Data__"
   ]
  },
  {
   "cell_type": "markdown",
   "metadata": {},
   "source": [
    "__*Mode*__\n",
    "The most commonly occuring category or value in a data set.\n",
    "\n",
    "__*Expected value*__\n",
    "When the categories can be associated with a numeric value, this gives an average value based on a category's probability of occurrence.\n",
    "\n",
    "__*Bar Charts*__\n",
    "The frequency or proportion for each category plotted as bars.\n",
    "\n",
    "__*Pie Charts*__\n",
    "The frequency or proportion for each category plotted as wedges in a pie."
   ]
  },
  {
   "cell_type": "code",
   "execution_count": 17,
   "metadata": {},
   "outputs": [
    {
     "data": {
      "text/plain": [
       "Text(0, 0.5, 'Count')"
      ]
     },
     "execution_count": 17,
     "metadata": {},
     "output_type": "execute_result"
    },
    {
     "data": {
      "image/png": "[encoded data removed]",
      "text/plain": [
       "<Figure size 1440x720 with 1 Axes>"
      ]
     },
     "metadata": {
      "needs_background": "light"
     },
     "output_type": "display_data"
    }
   ],
   "source": [
    "# Mode, which country has the most gold medals\n",
    "ax = medal_count.plot.bar(x=\"Country\", y=\"Gold Medal\", legend=False, figsize=(20, 10))\n",
    "ax.set_title(\"Count of Each Country's Gold Medals\")\n",
    "ax.set_xlabel(\"Country\")\n",
    "ax.set_ylabel(\"Count\")"
   ]
  },
  {
   "cell_type": "markdown",
   "metadata": {},
   "source": [
    "### __Correlation__"
   ]
  },
  {
   "cell_type": "markdown",
   "metadata": {},
   "source": [
    "Variables X and Y are considered as positively correlated if high value of X corresponds to high value of Y, and vice versa. While negative correlation refers to when low X coresponds to high Y, and vice versa.\n",
    "\n",
    "__*Correlation coefficient*__ <br>\n",
    "A metric that measures the extent to which numeric variables are associated with one another (ranges from -1 to +1).\n",
    "\n",
    "__*Correlation matrix*__ <br>\n",
    "A table where the variables are shown on both rows and columns, and the cell values are the correlations between the variables.\n",
    "\n",
    "__*Scatterplot*__ <br>\n",
    "A plot in which the x-axis is the value of one variable, and the y-axis the value of another."
   ]
  },
  {
   "cell_type": "code",
   "execution_count": 18,
   "metadata": {},
   "outputs": [
    {
     "data": {
      "text/html": [
       "<div>\n",
       "<style scoped>\n",
       "    .dataframe tbody tr th:only-of-type {\n",
       "        vertical-align: middle;\n",
       "    }\n",
       "\n",
       "    .dataframe tbody tr th {\n",
       "        vertical-align: top;\n",
       "    }\n",
       "\n",
       "    .dataframe thead th {\n",
       "        text-align: right;\n",
       "    }\n",
       "</style>\n",
       "<table border=\"1\" class=\"dataframe\">\n",
       "  <thead>\n",
       "    <tr style=\"text-align: right;\">\n",
       "      <th></th>\n",
       "      <th>Gold Medal</th>\n",
       "      <th>Silver Medal</th>\n",
       "      <th>Bronze Medal</th>\n",
       "      <th>Total</th>\n",
       "      <th>Rank By Total</th>\n",
       "    </tr>\n",
       "  </thead>\n",
       "  <tbody>\n",
       "    <tr>\n",
       "      <th>Gold Medal</th>\n",
       "      <td>1.000000</td>\n",
       "      <td>0.929046</td>\n",
       "      <td>0.862425</td>\n",
       "      <td>0.970840</td>\n",
       "      <td>-0.626012</td>\n",
       "    </tr>\n",
       "    <tr>\n",
       "      <th>Silver Medal</th>\n",
       "      <td>0.929046</td>\n",
       "      <td>1.000000</td>\n",
       "      <td>0.862646</td>\n",
       "      <td>0.969439</td>\n",
       "      <td>-0.632831</td>\n",
       "    </tr>\n",
       "    <tr>\n",
       "      <th>Bronze Medal</th>\n",
       "      <td>0.862425</td>\n",
       "      <td>0.862646</td>\n",
       "      <td>1.000000</td>\n",
       "      <td>0.941941</td>\n",
       "      <td>-0.745573</td>\n",
       "    </tr>\n",
       "    <tr>\n",
       "      <th>Total</th>\n",
       "      <td>0.970840</td>\n",
       "      <td>0.969439</td>\n",
       "      <td>0.941941</td>\n",
       "      <td>1.000000</td>\n",
       "      <td>-0.692450</td>\n",
       "    </tr>\n",
       "    <tr>\n",
       "      <th>Rank By Total</th>\n",
       "      <td>-0.626012</td>\n",
       "      <td>-0.632831</td>\n",
       "      <td>-0.745573</td>\n",
       "      <td>-0.692450</td>\n",
       "      <td>1.000000</td>\n",
       "    </tr>\n",
       "  </tbody>\n",
       "</table>\n",
       "</div>"
      ],
      "text/plain": [
       "               Gold Medal  Silver Medal  Bronze Medal     Total  Rank By Total\n",
       "Gold Medal       1.000000      0.929046      0.862425  0.970840      -0.626012\n",
       "Silver Medal     0.929046      1.000000      0.862646  0.969439      -0.632831\n",
       "Bronze Medal     0.862425      0.862646      1.000000  0.941941      -0.745573\n",
       "Total            0.970840      0.969439      0.941941  1.000000      -0.692450\n",
       "Rank By Total   -0.626012     -0.632831     -0.745573 -0.692450       1.000000"
      ]
     },
     "execution_count": 18,
     "metadata": {},
     "output_type": "execute_result"
    }
   ],
   "source": [
    "# Correlation pandas has a quick method .corr() that will output a correlation matrix\n",
    "medal_count.corr()"
   ]
  },
  {
   "cell_type": "code",
   "execution_count": 19,
   "metadata": {},
   "outputs": [
    {
     "data": {
      "text/plain": [
       "<AxesSubplot:xlabel='Gold Medal', ylabel='Silver Medal'>"
      ]
     },
     "execution_count": 19,
     "metadata": {},
     "output_type": "execute_result"
    },
    {
     "data": {
      "image/png": "[encoded data removed]",
      "text/plain": [
       "<Figure size 432x288 with 1 Axes>"
      ]
     },
     "metadata": {
      "needs_background": "light"
     },
     "output_type": "display_data"
    }
   ],
   "source": [
    "medal_count.plot.scatter(x=\"Gold Medal\", y=\"Silver Medal\", marker=\"$\\u25EF$\")"
   ]
  },
  {
   "cell_type": "markdown",
   "metadata": {},
   "source": [
    "### Exploring Two or More Variables"
   ]
  },
  {
   "cell_type": "markdown",
   "metadata": {},
   "source": [
    "__*Contingency table* <br>\n",
    "A tally of counts between two or more categorical variables.\n",
    "\n",
    "__*Hexagonal binning*__ <br>\n",
    "A plot of two numeric variables with the recods binned into hexagons.\n",
    "\n",
    "__*Contour plot*__ <br>\n",
    "A plot showing the density of two numeric variables like a topographical map.\n",
    "\n",
    "__*Violin plot*__ <br>\n",
    "Similar to a bloxplot but showing the density estimate."
   ]
  },
  {
   "cell_type": "code",
   "execution_count": 20,
   "metadata": {},
   "outputs": [
    {
     "data": {
      "text/plain": [
       "<AxesSubplot:xlabel='Gold Medal', ylabel='Silver Medal'>"
      ]
     },
     "execution_count": 20,
     "metadata": {},
     "output_type": "execute_result"
    },
    {
     "data": {
      "image/png": "[encoded data removed]",
      "text/plain": [
       "<Figure size 432x288 with 2 Axes>"
      ]
     },
     "metadata": {
      "needs_background": "light"
     },
     "output_type": "display_data"
    }
   ],
   "source": [
    "# Hexagonal binning\n",
    "medal_count.plot.hexbin(x=\"Gold Medal\", y=\"Silver Medal\", gridsize=30, sharex=False)"
   ]
  }
 ],
 "metadata": {
  "interpreter": {
   "hash": "72c95aee79be0bde4ea1e536e231e2eb7fc74f300fbd4702d5610770172462b1"
  },
  "kernelspec": {
   "display_name": "Python 3.9.7 64-bit ('simple_ds': conda)",
   "name": "python3"
  },
  "language_info": {
   "codemirror_mode": {
    "name": "ipython",
    "version": 3
   },
   "file_extension": ".py",
   "mimetype": "text/x-python",
   "name": "python",
   "nbconvert_exporter": "python",
   "pygments_lexer": "ipython3",
   "version": "3.9.7"
  },
  "orig_nbformat": 4
 },
 "nbformat": 4,
 "nbformat_minor": 2
}
