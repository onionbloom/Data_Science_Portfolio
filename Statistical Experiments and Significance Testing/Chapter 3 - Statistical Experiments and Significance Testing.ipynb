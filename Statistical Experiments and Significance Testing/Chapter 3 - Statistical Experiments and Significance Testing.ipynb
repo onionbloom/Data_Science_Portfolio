{
 "cells": [
  {
   "cell_type": "markdown",
   "metadata": {},
   "source": [
    "### __A/B Testing__"
   ]
  },
  {
   "cell_type": "markdown",
   "metadata": {},
   "source": [
    "An A/B test is an experiment with two groups to establish which of the two is superior. If a standard (or no) treatment is used, it as called the *control*. A typical hypothesis is that a new treatment is better than the control.\n",
    "\n",
    "__*Treatment*__ <br>\n",
    "Something (drug, price, web headline) to which a subject is exposed.\n",
    "\n",
    "__*Treatment group*__ <br>\n",
    "A group of subjects exposed to a specific treatment.\n",
    "\n",
    "__*Control group*__ <br>\n",
    "A group of subject exposed to standard (or no) treatment.\n",
    "\n",
    "__*Randomization*__ <br>\n",
    "The process of randomly assigning subjects to treatments.\n",
    "\n",
    "__*Subjects*__ <br>\n",
    "The items (web visitors, patients, etc) that are exposed to treatments.\n",
    "\n",
    "__*Test statistic*__ <br>\n",
    "The metric used to measure the effect of the treatment.\n",
    "\n",
    "Data scientists are less interested in the question:<br>\n",
    "*Is the difference between price A and prive B statistically significant?* <br>\n",
    "than in the question:<br>\n",
    "*Which, out of multiple possible prices, is best?*"
   ]
  },
  {
   "cell_type": "markdown",
   "metadata": {},
   "source": [
    "### __Hypothesis Tests__"
   ]
  },
  {
   "cell_type": "markdown",
   "metadata": {},
   "source": [
    "\n",
    "__*Null hypothesis*__ <br>\n",
    "The hypothesis that chance is to blame.\n",
    "\n",
    "__*Alternative hyppothesis*__ <br>\n",
    "Counterpoint to the null (what you hope to prove).\n",
    "\n",
    "__*One-way test*__ <br>\n",
    "Hypothesis test that counts chance results only in one direction.\n",
    "\n",
    "__*Two-way test*__ <br>\n",
    "Hypothesis test that counts chance results in two directions.\n",
    "\n",
    "an A/B test is typically constructed with a hypothesis in mind (may be that price B produces higher profit). Forming hypothesis is a way to protect from being fooled by random chance. In a properly designed A/B test, you collect data on treatments A and B in a way that any observed difference between A and B must be due to either:\n",
    "* Random chance in assignment of subjects\n",
    "* A true difference between A and B"
   ]
  },
  {
   "cell_type": "markdown",
   "metadata": {},
   "source": [
    "The goal then is to prove *null hypothesios* wrong, and hence, reject it. Show that the outcomes for groups A and B are more different than what chance might produce.\n",
    "\n",
    "In wanting to prove that B is better than A, you want a *directional* alternative hypothesis. In this case, it's a *one-way* (or one tail) hypothesis test. This means that extreme chance results in only one direction count toward the p-value.\n",
    "\n",
    "One-tail versus two-tail is not that relevant for data science, where the precision of p-value calculations is not terribly important."
   ]
  },
  {
   "cell_type": "markdown",
   "metadata": {},
   "source": [
    "### __Resampling__"
   ]
  },
  {
   "cell_type": "markdown",
   "metadata": {},
   "source": [
    "Resampling in statistics means to repeatedly sample values from observed data. The goal is to assess random variability in a statsitc. It can also be used to assess and improve the accuracy of some machine-learning models (e.g. the predictions, form decision tree models built on multiple bootstrapped data sets can be averaged in a process known as bagging).\n",
    "\n",
    "Two main types of resampling procedures:\n",
    "* The bootstrap (ref. chapter 2)\n",
    "* Permutation tests\n",
    "\n",
    "Permutation tests are used to test hypotheses, typically involving two or more groups"
   ]
  },
  {
   "cell_type": "markdown",
   "metadata": {},
   "source": [
    "__*Permutation test*__ <br>\n",
    "The procedure of combining two or more samples together and randomly (or exhaustively) reallocating the observations to resamples. *Synonyms:* Randomization test, random permutation test, exact test.\n",
    "\n",
    "__*Resampling*__ <br>\n",
    "Drawing additional samples (\"resamples\") from an observed data set.\n",
    "\n",
    "__*With or withour replacement*__ <br>\n",
    "Whether or not an item is returned to the sample before the next draw (in sampling).\n",
    "\n"
   ]
  },
  {
   "cell_type": "markdown",
   "metadata": {},
   "source": [
    "The permutation procedure is as follows:\n",
    "<ol>\n",
    "<li>Combine the results from the different groups into a single data set.</li>\n",
    "<li>Shuffle the combined data and then randomly draw (without replacement) a resample of the same size as group A.</li>\n",
    "<li>From the remaining data, randomly draw (without replacement) a resample of the same size as group B.</li>\n",
    "<li>Do the same for groups C, D, etc.</li>\n",
    "<li>Whatever statistic or estimate was calculated for the original samples, calculate it now for the resamples, and record. This yields one permutation iteration.</li>\n",
    "<li>Repeat the previous steps $R$ times to yield a permutation distribution of the test statistic.</li>\n",
    "</ol>"
   ]
  },
  {
   "cell_type": "markdown",
   "metadata": {},
   "source": [
    "If the observed difference lies well within the test set of permuted differences then we have not proven anything. The observed difference is within the range of what chanve might porduce. If the observed difference lies outside of the permutation distribution, then chance is __not__ responsible. In other words, the difference is *statistically significant*.\n",
    "\n",
    "There are two types of permutation tests:\n",
    "* An exhaustive permutation test\n",
    "* A bootstrap permutation test\n",
    "\n",
    "We figure out all the possible ways the data could be divided. Only practical for small sample sizes.\n",
    "\n",
    "in a bootstrap permutation test, the draws in steps 2 and 3 of the random permutation test are made *with replacement* instead of without. \n",
    "\n",
    "Both procedures are encountered in statistics, the distinction between then is not of consequence in the practice of data science."
   ]
  },
  {
   "cell_type": "markdown",
   "metadata": {},
   "source": [
    "### __Statistical Significance and p-Values__"
   ]
  },
  {
   "cell_type": "markdown",
   "metadata": {},
   "source": [
    "__*p-value*__ <br>\n",
    "Given a chance model that embodies the null hypothesis, the p-value is the probability of obtaining results as unusual or extreme as the observed results.\n",
    "\n",
    "__*Alpha*__ <br>\n",
    "The probability threshold of \"unusualness\" that chance results must surpass for actual outcomes to be deemed statistically significant.\n",
    "\n",
    "__*Type 1 error*__ <br>\n",
    "Mistakenly concluding an effect is real (when, in fact, it is due to chance.).\n",
    "\n",
    "__*Type 2 error*__ <br>\n",
    "Mistakenly concluding an effect is due to chance (when it is real)."
   ]
  },
  {
   "cell_type": "markdown",
   "metadata": {},
   "source": [
    "It is not pratical to measure statistical significance from only looking at a graph, so the p-value is of interest. The frequency that the chance model produces a result more extreme than the obeserved result. We can estimate a p-value from the permutation test by taking the proportion of times the permutation test produces a difference equal to or greater than the observed difference.\n",
    "\n",
    "Note that if you have a binomial distribution you can use the normal approximation for the p-value; in Python you can use `scipy.stats.chi2_contingency()` method"
   ]
  },
  {
   "cell_type": "markdown",
   "metadata": {},
   "source": [
    "For a data scientist, a p-value is a useful metric in situations where you want to know whether a model result that appears interesting and useful is within the range of normal chance variability. A p-value should not be considered controlling, but merely another point of information bearing on a decision. "
   ]
  },
  {
   "cell_type": "code",
   "execution_count": 54,
   "metadata": {},
   "outputs": [],
   "source": [
    "import pandas as pd\n",
    "from random import sample\n",
    "\n",
    "# Permutation test function\n",
    "\n",
    "def perm_func(x, nA, nB):\n",
    "    \"\"\"The function takes the following as parameters:\n",
    "    x: permutation group as Pandas dataframe,\n",
    "    nA: sample size of control group,\n",
    "    nB: sample size of test group\"\"\"\n",
    "\n",
    "    idx_A = x.sample(nA).index\n",
    "    idx_B = x.drop(index=idx_A).index\n",
    "    return x.loc[idx_A].mean() - x.loc[idx_B].mean()\n",
    "\n",
    "ctrl_group = pd.read_csv(\"control_group.csv\", delimiter=\";\", usecols=[\"Reach\", \"# of Website Clicks\"]).rename(columns={\"# of Website Clicks\": \"Clicks\"}).iloc[[1]]\n",
    "test_group = pd.read_csv(\"test_group.csv\", delimiter=\";\", usecols=[\"Reach\", \"# of Website Clicks\"]).rename(columns={\"# of Website Clicks\": \"Clicks\"}).iloc[[1]]\n",
    "\n",
    "# Create a combined group of 1s and 0s representing all the conversions (clicks) and non-conversions (reach - clicks) respectively\n",
    "permute_group = [0] * int(ctrl_group[\"Reach\"] - ctrl_group[\"Clicks\"] + test_group[\"Reach\"] - test_group[\"Clicks\"])\n",
    "permute_group.extend([1] * int(ctrl_group[\"Clicks\"] + test_group[\"Clicks\"]))\n",
    "permute_group = pd.Series(permute_group)"
   ]
  },
  {
   "cell_type": "code",
   "execution_count": 55,
   "metadata": {},
   "outputs": [
    {
     "name": "stdout",
     "output_type": "stream",
     "text": [
      "The observed difference in conversion rate is: 3.7847\n"
     ]
    }
   ],
   "source": [
    "# The observed difference in conversion rate (clicks/reach) between ctrl and test\n",
    "obs_conv_rate = float(ctrl_group[\"Clicks\"]/test_group[\"Reach\"] - test_group[\"Clicks\"]/test_group[\"Reach\"]) * 100\n",
    "print(f\"The observed difference in conversion rate is: {obs_conv_rate:.4f}\")"
   ]
  },
  {
   "cell_type": "code",
   "execution_count": 56,
   "metadata": {},
   "outputs": [],
   "source": [
    "# Resample for group A and B 1000 times\n",
    "perm_diffs = [100 * perm_func(permute_group, int(ctrl_group[\"Reach\"]), int(test_group[\"Reach\"])) for _ in range(1000)]"
   ]
  },
  {
   "cell_type": "code",
   "execution_count": 57,
   "metadata": {},
   "outputs": [
    {
     "data": {
      "text/plain": [
       "Text(0, 0.5, 'Frequency')"
      ]
     },
     "execution_count": 57,
     "metadata": {},
     "output_type": "execute_result"
    },
    {
     "data": {
      "image/png": "[encoded data removed]",
      "text/plain": [
       "<Figure size 360x360 with 1 Axes>"
      ]
     },
     "metadata": {
      "needs_background": "light"
     },
     "output_type": "display_data"
    }
   ],
   "source": [
    "import matplotlib.pyplot as plt\n",
    "import numpy as np\n",
    "\n",
    "fig, ax = plt.subplots(figsize=(5, 5))\n",
    "ax.hist(perm_diffs, bins=11, rwidth=0.9)\n",
    "ax.axvline(x=obs_conv_rate, color=\"black\", lw=2)\n",
    "ax.text(0.06, 200, \"Observed\\ndifference\", bbox={\"facecolor\": \"white\"})\n",
    "ax.set_xlabel(\"Conversion rate (percent)\")\n",
    "ax.set_ylabel(\"Frequency\")"
   ]
  },
  {
   "cell_type": "code",
   "execution_count": 61,
   "metadata": {},
   "outputs": [
    {
     "name": "stdout",
     "output_type": "stream",
     "text": [
      "The estimated p-value from the permutation test is: 0.0000\n"
     ]
    }
   ],
   "source": [
    "# P-value: proportion of times the permutation test produced a differnce equal to or greater than observed difference.\n",
    "\n",
    "perm_est_p = np.mean([diff > obs_conv_rate for diff in perm_diffs])\n",
    "\n",
    "print(f\"The estimated p-value from the permutation test is: {perm_est_p:.4f}\")\n",
    "\n",
    "#The mean is essentially the proportion since we can take the fact that diff > obs_conv_rate will true and false and will be interpreted as 1 and 0 respectively."
   ]
  },
  {
   "cell_type": "markdown",
   "metadata": {},
   "source": [
    "The p-value is very small and we may conclude that the the observed difference, or more extreme than that, is not within the range of what random chance may result.\n",
    "\n",
    "Since conversion and non-conversion is binomial, we can approximate the p-value:"
   ]
  },
  {
   "cell_type": "code",
   "execution_count": 34,
   "metadata": {},
   "outputs": [
    {
     "data": {
      "text/plain": [
       "array([[ 7016, 49914],\n",
       "       [ 3038, 32782]])"
      ]
     },
     "execution_count": 34,
     "metadata": {},
     "output_type": "execute_result"
    }
   ],
   "source": [
    "from scipy.stats import chi2_contingency\n",
    "\n",
    "survivors = np.array([[int(ctrl_group[\"Clicks\"][0]),int(ctrl_group[\"Reach\"][0]-ctrl_group[\"Clicks\"][0])], [int(test_group[\"Clicks\"][0]), int(test_group[\"Reach\"][0]-test_group[\"Clicks\"][0])]])\n",
    "survivors"
   ]
  },
  {
   "cell_type": "code",
   "execution_count": 35,
   "metadata": {},
   "outputs": [
    {
     "name": "stdout",
     "output_type": "stream",
     "text": [
      "0.0000\n"
     ]
    }
   ],
   "source": [
    "chi2, p_value, dof, _ = chi2_contingency(survivors)\n",
    "print(f\"{p_value/2:.4f}\")"
   ]
  },
  {
   "cell_type": "markdown",
   "metadata": {},
   "source": [
    "The quick normal approximation using chi-squared contingency method confirm the permutation estimate of the p-value above."
   ]
  },
  {
   "cell_type": "markdown",
   "metadata": {},
   "source": [
    "### __t-Tests__"
   ]
  },
  {
   "cell_type": "markdown",
   "metadata": {},
   "source": [
    "There are many types of significance tests depending on whether the data is of count data or measured data, how many samples, and what's being measured. A very common test is the *t-test*, developped in the 20s when shuffling data thousands of times was not feasable. \n",
    "\n",
    "__*Test statistic*__ <br>\n",
    "A metric for the difference or effect of interest.\n",
    "\n",
    "__*t-statistic*__ <br>\n",
    "A standardized version of common test statistics such as means.\n",
    "\n",
    "__*t-distribution*__ <br>\n",
    "A reference distribution (this case, derived from null hypothesis), to which the observed t-statistic can be compared."
   ]
  },
  {
   "cell_type": "markdown",
   "metadata": {},
   "source": [
    "You can use the `scipy.stats.ttest_ind()` method in Python"
   ]
  },
  {
   "cell_type": "markdown",
   "metadata": {},
   "source": [
    "### __Multiple Testing__"
   ]
  },
  {
   "cell_type": "markdown",
   "metadata": {},
   "source": [
    "__*False discovery rate*__ <br>\n",
    "Across multiple tests, the rate of making a Type 1 error.\n",
    "\n",
    "__*Alpha inflation*__ <br>\n",
    "The multiple testing phenomenon, in which *alpha*, the probability of making a Type 1 error, increases as you conduct more tests.\n",
    "\n",
    "__*Adjustment of p-values*__ <br>\n",
    "Accounting for doing multiple tests on the same data.\n",
    "\n",
    "__*Overfitting*__ <br>\n",
    "Fitting the noise."
   ]
  },
  {
   "cell_type": "markdown",
   "metadata": {},
   "source": [
    "In supervised learning tasks, a holdout set where models are assessed on data that the model has not seen before  mitigates this risk. In statistical and machine learning tasks not involving a labeled holdout set, the risk of reaching conclusions based on statistical noice persists."
   ]
  },
  {
   "cell_type": "markdown",
   "metadata": {},
   "source": [
    "### __Degrees of Freedom__"
   ]
  },
  {
   "cell_type": "markdown",
   "metadata": {},
   "source": [
    "The concept is applied to statistics calculated from sample data, and refers to the number of values free to vary. Example: If you know the mean for a sample of 10 values, there are 9 degrees of freedom (once you know 9 of the sample values, the 10th can be calculated and is not free to vary).\n",
    "\n",
    "__*n or sample size*__ <br>\n",
    "The number of observations (also called *rows* or *records*) in the data.\n",
    "\n",
    "__*d.f*__ <br>\n",
    "Degrees of freedom.\n",
    "\n",
    "When you use a sample to estimate the variance for a population, you will end up with an estimate that is slightly biased downward if you use $n$.\n",
    "\n",
    "Not too important for data science (in the context of significance testing). The data size is usually large enough that it rarely makes a difference for a data scientist whether the denominator has $n$ or $n-1$. As $n$ gets large, the bias that would come from using $n$ in the denominator disappears.\n",
    "\n",
    "One context where this becomes relevant in data science is when using factored variables in regression. Some regression algorithms choke if exactly redundant predictor variables are present. Consider the variable `day of week`. Even though there are seven days in a week, there are only 6 DOF in specifying day of week. Once you know the day of week is not Monday through Saturday, it must be Sunday. Including Sunday would cause the regression to fail, due to a `multicollinearity` error."
   ]
  },
  {
   "cell_type": "markdown",
   "metadata": {},
   "source": [
    "### __ANOVA__"
   ]
  },
  {
   "cell_type": "markdown",
   "metadata": {},
   "source": [
    "Consider there is a comparison between multiple groups with numerical data. The statistical procedure that tests for a statistically significant difference among the groups is called *analysis of variance* (*ANOVA*).\n",
    "\n",
    "__*Pairwise comparison*__ <br>\n",
    "A hypothesis test (e.g of means) between two groups among multiple groups.\n",
    "\n",
    "__*Omnibus test*__ <br>\n",
    "A single hypothesis test of the overall variance among multiple group means.\n",
    "\n",
    "__*Decomposition of variance*__ <br>\n",
    "Separation of components contributing to an individual value (eg. from the overall average, from a treatment mean, and from residual error).\n",
    "\n",
    "__*F-statistic*__ <br>\n",
    "A standardized statistic that measures the extent to which differences among group means exceed what might be expected in a chance model.\n",
    "\n",
    "__*SS*__ <br>\n",
    "Sum of squares - referring to deviations from some average value."
   ]
  },
  {
   "cell_type": "markdown",
   "metadata": {},
   "source": [
    "ANOVA resampling procedure is as follows:\n",
    "<ol>\n",
    "<li>Combine all the data together in a single box.</li>\n",
    "<li>Shuffle and draw out four resamples of five (or however many the test was run) values each.</li>\n",
    "<li>Record the mean of each of the four groups.</li>\n",
    "<li>Record the variance among the four group means.</li>\n",
    "<li>Repeat steps 2 - 4 many (say 1,000) times</li>\n",
    "</ol>\n",
    "\n",
    "The proportion of times the resampled variance exceed the observed variance is the p-value"
   ]
  },
  {
   "cell_type": "code",
   "execution_count": 89,
   "metadata": {},
   "outputs": [
    {
     "data": {
      "text/html": [
       "<div>\n",
       "<style scoped>\n",
       "    .dataframe tbody tr th:only-of-type {\n",
       "        vertical-align: middle;\n",
       "    }\n",
       "\n",
       "    .dataframe tbody tr th {\n",
       "        vertical-align: top;\n",
       "    }\n",
       "\n",
       "    .dataframe thead th {\n",
       "        text-align: right;\n",
       "    }\n",
       "</style>\n",
       "<table border=\"1\" class=\"dataframe\">\n",
       "  <thead>\n",
       "    <tr style=\"text-align: right;\">\n",
       "      <th></th>\n",
       "      <th>Design</th>\n",
       "      <th>Distance</th>\n",
       "    </tr>\n",
       "  </thead>\n",
       "  <tbody>\n",
       "    <tr>\n",
       "      <th>0</th>\n",
       "      <td>Design1</td>\n",
       "      <td>206.32</td>\n",
       "    </tr>\n",
       "    <tr>\n",
       "      <th>1</th>\n",
       "      <td>Design1</td>\n",
       "      <td>207.94</td>\n",
       "    </tr>\n",
       "    <tr>\n",
       "      <th>2</th>\n",
       "      <td>Design1</td>\n",
       "      <td>206.19</td>\n",
       "    </tr>\n",
       "    <tr>\n",
       "      <th>3</th>\n",
       "      <td>Design1</td>\n",
       "      <td>204.45</td>\n",
       "    </tr>\n",
       "    <tr>\n",
       "      <th>4</th>\n",
       "      <td>Design1</td>\n",
       "      <td>209.65</td>\n",
       "    </tr>\n",
       "  </tbody>\n",
       "</table>\n",
       "</div>"
      ],
      "text/plain": [
       "    Design  Distance\n",
       "0  Design1    206.32\n",
       "1  Design1    207.94\n",
       "2  Design1    206.19\n",
       "3  Design1    204.45\n",
       "4  Design1    209.65"
      ]
     },
     "execution_count": 89,
     "metadata": {},
     "output_type": "execute_result"
    }
   ],
   "source": [
    "# Consider testing 4 golf ball designs that were shot from a machine to test the distances 10 times:\n",
    "distances = pd.read_csv(\"Golfball.csv\")\n",
    "distances.head()"
   ]
  },
  {
   "cell_type": "code",
   "execution_count": 64,
   "metadata": {},
   "outputs": [
    {
     "data": {
      "text/plain": [
       "<AxesSubplot:>"
      ]
     },
     "execution_count": 64,
     "metadata": {},
     "output_type": "execute_result"
    },
    {
     "data": {
      "image/png": "[encoded data removed]",
      "text/plain": [
       "<Figure size 432x288 with 1 Axes>"
      ]
     },
     "metadata": {
      "needs_background": "light"
     },
     "output_type": "display_data"
    }
   ],
   "source": [
    "# Boxplot shows considerable differences among them\n",
    "distances.boxplot()"
   ]
  },
  {
   "cell_type": "code",
   "execution_count": 88,
   "metadata": {},
   "outputs": [
    {
     "name": "stdout",
     "output_type": "stream",
     "text": [
      "Observed means: [206.614 218.516 226.588 228.622]\n",
      "Variance: 99.70\n"
     ]
    }
   ],
   "source": [
    "observed_means = distances.groupby(\"Design\").mean().values.ravel()\n",
    "observed_variance = distances.groupby(\"Design\").mean().var()[0]\n",
    "print(f\"Observed means: {observed_means}\")\n",
    "print(f\"Variance: {observed_variance:.2f}\")"
   ]
  },
  {
   "cell_type": "code",
   "execution_count": 101,
   "metadata": {},
   "outputs": [],
   "source": [
    "def perm_test(data):\n",
    "    data = data.copy()\n",
    "    # Shuffle the data\n",
    "    data[\"Distance\"] = np.random.permutation(data[\"Distance\"].values)\n",
    "    return data.groupby(\"Design\").mean().var()[0]  # Draw out 4 resamples and record the mean variance\n",
    "\n",
    "# Resample and record mean variance many times\n",
    "perm_variance = [perm_test(distances) for _ in range(1000)]"
   ]
  },
  {
   "cell_type": "code",
   "execution_count": 106,
   "metadata": {},
   "outputs": [
    {
     "name": "stdout",
     "output_type": "stream",
     "text": [
      "Pr(Prob): 0.0000\n"
     ]
    }
   ],
   "source": [
    "# Taking advantage of var > observed_variance yielding as True and False that will be interpreted as 1s and 0s respectively. The mean is then the proportion.\n",
    "p_value = np.mean([var > observed_variance for var in perm_variance])\n",
    "print(f\"Pr(Prob): {p_value:.4f}\")"
   ]
  },
  {
   "cell_type": "markdown",
   "metadata": {},
   "source": [
    "Just like the t-test can be used instead of permutation test for comparing the mean of two groups, there is a statistical test for ANOVA based on the *F-statistic*. The *F-statistic* is based on the ratio of the variance across group means to the variance due to residual error. The higher this ratio, the more statistically significant the result.  "
   ]
  },
  {
   "cell_type": "code",
   "execution_count": 107,
   "metadata": {},
   "outputs": [
    {
     "data": {
      "text/html": [
       "<div>\n",
       "<style scoped>\n",
       "    .dataframe tbody tr th:only-of-type {\n",
       "        vertical-align: middle;\n",
       "    }\n",
       "\n",
       "    .dataframe tbody tr th {\n",
       "        vertical-align: top;\n",
       "    }\n",
       "\n",
       "    .dataframe thead th {\n",
       "        text-align: right;\n",
       "    }\n",
       "</style>\n",
       "<table border=\"1\" class=\"dataframe\">\n",
       "  <thead>\n",
       "    <tr style=\"text-align: right;\">\n",
       "      <th></th>\n",
       "      <th>df</th>\n",
       "      <th>sum_sq</th>\n",
       "      <th>mean_sq</th>\n",
       "      <th>F</th>\n",
       "      <th>PR(&gt;F)</th>\n",
       "    </tr>\n",
       "  </thead>\n",
       "  <tbody>\n",
       "    <tr>\n",
       "      <th>Design</th>\n",
       "      <td>3.0</td>\n",
       "      <td>173.3476</td>\n",
       "      <td>57.782533</td>\n",
       "      <td>0.595276</td>\n",
       "      <td>0.622191</td>\n",
       "    </tr>\n",
       "    <tr>\n",
       "      <th>Residual</th>\n",
       "      <td>36.0</td>\n",
       "      <td>3494.4666</td>\n",
       "      <td>97.068517</td>\n",
       "      <td>NaN</td>\n",
       "      <td>NaN</td>\n",
       "    </tr>\n",
       "  </tbody>\n",
       "</table>\n",
       "</div>"
      ],
      "text/plain": [
       "            df     sum_sq    mean_sq         F    PR(>F)\n",
       "Design     3.0   173.3476  57.782533  0.595276  0.622191\n",
       "Residual  36.0  3494.4666  97.068517       NaN       NaN"
      ]
     },
     "execution_count": 107,
     "metadata": {},
     "output_type": "execute_result"
    }
   ],
   "source": [
    "import statsmodels.formula.api as smf\n",
    "import statsmodels.api as sm\n",
    "\n",
    "model = smf.ols('Distance ~ Design', data= distances).fit()\n",
    "\n",
    "aov_table = sm.stats.anova_lm(model)\n",
    "aov_table"
   ]
  },
  {
   "cell_type": "markdown",
   "metadata": {},
   "source": [
    "### __Chi-Square Test__"
   ]
  },
  {
   "cell_type": "markdown",
   "metadata": {},
   "source": [
    "Web testing often goes beyond A/B testing and tests multiple treatments at once.\n",
    "The chi-square test is used with count data to test how well it fits some expected distribution.\n",
    "Common to use $row \\times column$ contingency tables.\n",
    "\n",
    "__*Chi-square statistic*__ <br>\n",
    "A measure of the extent to which some observed data departs from expectation.\n",
    "\n",
    "__*Expectation or expected*__ <br>\n",
    "How we would expect the data to turn out under some assumption, typically the null hypothesis."
   ]
  },
  {
   "cell_type": "markdown",
   "metadata": {},
   "source": [
    "__Fisher's Exact Test__\n",
    "\n",
    "For cases when the count data is very few.\n",
    "No straight forward implementation of Fisher's exact test in Python."
   ]
  },
  {
   "cell_type": "markdown",
   "metadata": {},
   "source": [
    "__Relevance for Data Science__\n",
    "\n",
    "The goal of chi-square test, or Fisher's exact test is to know whether an effect is for real or might be the product of chance. It is not too important in data science. In most data science experiments, the goal is not simply to establis statistical significance but rather to arive at the best treatment. For this purpose, multi-armed bandits offer a more complete solution.\n",
    "\n",
    "Chi-square tests, or similar resampling simulations, are used in data science applications more as a filter to determine whether an effect or a feature is worthy of further consideration than as a formal test of significance."
   ]
  },
  {
   "cell_type": "markdown",
   "metadata": {},
   "source": [
    "### __Multi-Arm Bandit Algorithm__"
   ]
  },
  {
   "cell_type": "markdown",
   "metadata": {},
   "source": [
    "Multi-arm bandits is an approach to testing, especially web testing, that allows explicit optimization and more rapid decision making than the traditional statistical approach to designing experiments.\n",
    "\n",
    "__*Multi-arm bandit*__ <br>\n",
    "An imaginary slot machine with multiple arms for the customer to choose from, each with different payoffs, here taken to be an analogy for a multitreatment experiment.\n",
    "\n",
    "__*Arm*__ <br>\n",
    "A treatment in an experiment (eg. new headline in a web)\n",
    "\n",
    "__*Win*__ <br>\n",
    "The experimental analog of a win at the slot machine (eg. customer clicks on link)\n",
    "\n",
    "Bandit algorithms can efficiently handle 3+ treatments and move toward optimal selection of the \"best.\" A simple algorithm (epsilon greedy algorithm):\n",
    "<ol>\n",
    "<li>Generate a uniformly distributed random number between 0 and 1.</li>\n",
    "<li>If the number lies between 0 and epsilon (epsilon is number between 0 and 1), flip a fair coin:</li>\n",
    "    a. If the coin is heads, show offer A.<br>\n",
    "    b. If the coin is tailsm show offer B.\n",
    "<li>If the number is greater / equal to epsilon, show whichever offer has had the highes response rate to date. </li>\n",
    "</ol>"
   ]
  },
  {
   "cell_type": "markdown",
   "metadata": {},
   "source": [
    "### __Power and Sample Size__"
   ]
  },
  {
   "cell_type": "markdown",
   "metadata": {},
   "source": [
    "How long should you run a web test? There is no general guidance. Depends on the frequency with which the desired goal is attained.\n",
    "\n",
    "__*Effect size*__ <br>\n",
    "The minimum size of the effect that you hope to be able to detect in a statistical test, such as \"a 20% improvement in click rates.\"\n",
    "\n",
    "__*Power*__ <br>\n",
    "The probability of detecting a given effect size with a given sample size.\n",
    "\n",
    "__*Significance level*__ <br>\n",
    "The statistical significance level at which the test will be conducted."
   ]
  }
 ],
 "metadata": {
  "interpreter": {
   "hash": "56441ffb59644a9c4e5b5e5721099150282382bd6f05155f8a59ac531bb5bc5e"
  },
  "kernelspec": {
   "display_name": "Python 3.9.7 64-bit ('simple_ds': conda)",
   "name": "python3"
  },
  "language_info": {
   "codemirror_mode": {
    "name": "ipython",
    "version": 3
   },
   "file_extension": ".py",
   "mimetype": "text/x-python",
   "name": "python",
   "nbconvert_exporter": "python",
   "pygments_lexer": "ipython3",
   "version": "3.9.7"
  },
  "orig_nbformat": 4
 },
 "nbformat": 4,
 "nbformat_minor": 2
}
