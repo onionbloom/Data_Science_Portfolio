{
 "cells": [
  {
   "cell_type": "markdown",
   "metadata": {},
   "source": [
    "### __Simple Linear Regression__"
   ]
  },
  {
   "cell_type": "markdown",
   "metadata": {},
   "source": [
    "Correlation is one way to describe the association between two variables. While correlation measures the strength of the relation, regression quantifies the nature of the relationship.\n",
    "\n",
    "__*Response*__ <br>\n",
    "The variable we are trying to predict. *Synonym:* dependent variable, Y variable.\n",
    "\n",
    "__*Independent variable*__ <br>\n",
    "The variable used to predict the response. *Synonym:* X variable, feature, predictor.\n",
    "\n",
    "__*Record*__ <br>\n",
    "The vector of predictor and outcome values for a specific individual or case.\n",
    "\n",
    "__*Intercept*__ <br>\n",
    "The intercept of the regresion line; the predicted value when X = 0. *Synonym:* $\\beta_0$.\n",
    "\n",
    "__*Regression coefficient*__ <br>\n",
    "The slope of the regression line. *Synonym:* weights, $\\beta_1$\n",
    "\n",
    "__*Fitted values*__ <br>\n",
    "The estimates $\\hat{Y}_i$ obtained from the regression line. *Synonym:* predicted values.\n",
    "\n",
    "__*Residuals*__ <br>\n",
    "The difference between the observed values and the fitted values. *Synonym:* errors.\n",
    "\n",
    "__*Least squares*__ <br>\n",
    "The method of fitting a regression by minimizing the sum of squared residuals. *Synonym:* ordinary least squares, OLS."
   ]
  },
  {
   "cell_type": "markdown",
   "metadata": {},
   "source": [
    "Simple linear regression estimates how much $Y$ will change when $X$ changes by a certain amount. The linear relation ship is described as:\n",
    "\n",
    "$Y= b_0 +b_1 X$\n",
    "\n",
    "In general, the data doesn't fall exactly on a line, so the regression equation should include an explicit error term:\n",
    "\n",
    "$Y_i= b_0 + b_1 X_i + e_i$\n",
    "\n",
    "the $\\hat{}$ notation indicates that a value is estimated.\n",
    "We can calculate the residuals $\\hat{e_i}$ with:\n",
    "\n",
    "$\\hat{e_i}=Y_i + \\hat{Y_i}$\n",
    "\n",
    "<p align=center>\n",
    "<img src=\"Linear regression residuals.jpg\" alt=\"Linear Regression Residuals\" width=300></p>\n",
    "\n",
    "The regression line is, essentially, the estimate that minimizes the sum of quared residual values (*Residual sum of squares, RSS*)\n",
    "\n",
    "$RSS = \\sum\\limits^n_{i=1}(Y_i - \\hat{Y}_i)^2$ <br>\n",
    "$RSS = \\sum\\limits^n_{i=1}(Y_i - \\hat{b}_0 - \\hat{b}_1X_i)^2$\n",
    "\n",
    "The $\\hat{b}_0 - \\hat{b}_1$ estimates are the values that minimize RSS.\n",
    "\n",
    "Least squares are sensitive to outliers, especially in small data sets.\n",
    "The regression equation does not prove the direction of causation. Conclusions about causation must come from a broader understanding about the relationship.\n"
   ]
  },
  {
   "cell_type": "markdown",
   "metadata": {},
   "source": [
    "### __Multiple Linear Regression__"
   ]
  },
  {
   "cell_type": "markdown",
   "metadata": {},
   "source": [
    "When there are multiple predictors, the quation is extended to accomodate them:\n",
    "\n",
    "$Y_i= b_0 + b_1 X_1 + b_2 X_2 + ... + b_p X_p + e$\n",
    "\n",
    "Instead of a line, we now have a linear model; the relationship between each coefficient and its variable (feature) is linear.\n",
    "\n",
    "__*Root mean squared error*__ <br>\n",
    "The square root of the average squared error of the regression (this is the most widely used metric to compare regression models). *Synonym:* RMSE\n",
    "\n",
    "__*Residual standard error*__ <br>\n",
    "The same as the root mean squared error, but adjusted for degrees of freedom. *Synonym:* RSE\n",
    "\n",
    "__*R-squared*__ <br>\n",
    "The proportion of variance explained by the model, from 0 to 1. *Synonym:* coefficient of determination.\n",
    "\n",
    "__*t-statistic*__ <br>\n",
    "The coefficient for a predictor, divided by the standard error of the coefficient, giving a metric to compare the importance of variables in the model. \n",
    "\n",
    "__*Weighted regression*__ <br>\n",
    "Regression with the records having different weights."
   ]
  },
  {
   "cell_type": "markdown",
   "metadata": {},
   "source": [
    "Classic statistical regression metrics are all \"in-sample\" metrics; they are applied to the same data that was used to fit the model. It would make sense then to set aside some of the original data, not use it to fit the model, but then apply the model to the set-aside data (holdout) to see how well the model does.\n",
    "\n",
    "cross-validation extends the ida of a holdout sample to multiple sequential holdout samples. The algorith for basic *k-fold cross-validation*:\n",
    "\n",
    "<ol>\n",
    "<li>Set aside 1/k of the data as aholdout sample.</li>\n",
    "<li>Train the model on the remaining data.</li>\n",
    "<li>Apply (score) the model to the 1/k holdout, and record neededmodel assessment metrics.</li>\n",
    "<li>Restore the first 1/k of the data, and set aside the next 1/k (excluding any records that got picked the first time.)</li>\n",
    "<li>Repeat steps 2 and 3.</li>\n",
    "<li>Repeat until each record has been used in the holdout portion.</li>\n",
    "<li>Average or otherwise combine the model assessment metrics.</li>\n",
    "</ol>\n",
    "\n",
    "The division of the data into the training sample and the houldout sample is called *fold*."
   ]
  },
  {
   "cell_type": "markdown",
   "metadata": {},
   "source": [
    "In some problems, many variables may be used as predictors in a regression. however, adding more variables does not necessarily mean we havea better model. Generally, with all things being equal, a simpler model should be used in preference to a more complicated model.\n",
    "\n",
    "Including additional variables always reduces RMSE and increases $R^2$ for the training data. Not appropriate to help guide the model choice. One approach to including model complexity is to use the adjusted $R^2$:\n",
    "\n",
    "$R^2_{adj} = 1 - (1 - R^2)\\frac{n-1}{n-P-1}$\n",
    "\n",
    "$n$ - the number of records <br>\n",
    "$P$ - the number of variables in the model.\n",
    "\n",
    "A metric that penalizes adding terms to a model is Akaike's Information Criteria (AIC). In case of regression:\n",
    "\n",
    "$AIC = 2P + nlog(RSS/n)$\n",
    "\n",
    "$P$ - the number of variables <br>\n",
    "$n$ - the number of records\n",
    "\n",
    "Hence, the goal is to find the model with lowest AIC. "
   ]
  },
  {
   "cell_type": "markdown",
   "metadata": {},
   "source": [
    "### __Prediction Using Regression__"
   ]
  },
  {
   "cell_type": "markdown",
   "metadata": {},
   "source": [
    "The primary purpose of regression in data science is prediction. \n",
    "\n",
    "__*Prediction interval*__ <br>\n",
    "An uncertainty interval around an individual predicted value.\n",
    "\n",
    "__*Extrapolation*__ <br>\n",
    "Extension of a model beyond the range of the data used to fit it."
   ]
  },
  {
   "cell_type": "markdown",
   "metadata": {},
   "source": [
    "Regression models should not be used to extrapolate beyond the range of the data (except for time series forecasting). \n",
    "\n",
    "Useful metric in regression are the confidence intervals, the uncertainty intervals placed around regression coefficients and predictions. Confidence intervals for coefficients can be found using bootstrap:\n",
    "\n",
    "<ol>\n",
    "<li>Consider each row (including outcome variable) as a single “ticket” and place all\n",
    "the $n$ tickets in a box.</li>\n",
    "<li>Draw a ticket at random, record the values, and replace it in the box.</li>\n",
    "<li>Repeat step 2 n times; you now have one bootstrap resample.</li>\n",
    "<li>Fit a regression to the bootstrap sample, and record the estimated coefficients.</li>\n",
    "<li>Repeat steps 2 through 4, say, 1,000 times.</li>\n",
    "<li>You now have 1,000 bootstrap values for each coefficient; find the appropriate\n",
    "percentiles for each one (e.g., 5th and 95th for a 90% confidence interval).</li>\n",
    "</ol>\n",
    "\n",
    "$n$ - the number of records (rows)\n",
    "\n",
    "Data scientists are usually more concerned with the intervals aroundthe predicted values, $\\hat{Y}_i$ . The uncertainty around $\\hat{Y}_i$ comes from two sources:\n",
    "\n",
    "* Uncertainty about what the relevant predictor variables and their coefficients are.\n",
    "* Additional error inherent in individual data points.\n",
    "\n",
    "The individual data point error comes from the fact that the *actual* outcome values for a given predictor values will vary. We can model individual error with the residuals from the fitted values. The bootstrap algorithm for modeling both the regression model error and the individual data point error:\n",
    "\n",
    "<ol>\n",
    "<li>Take a bootstrap sample from the data.</li>\n",
    "<li>Fit the regression, and predict the new value.</li>\n",
    "<li>Take a single residual at random from the original regression fit, add it to the predicted value, and record the result.</li>\n",
    "<li>Repeat steps 1 to 3 many times, e.g. 1,000 times.</li>\n",
    "<li>Find the 2.5th and the 97.5th percentiles of the results.</li>\n",
    "</ol>"
   ]
  },
  {
   "cell_type": "markdown",
   "metadata": {},
   "source": [
    "### __Factor Variables in Regression__"
   ]
  },
  {
   "cell_type": "markdown",
   "metadata": {},
   "source": [
    "*Factor* variables oro *categorical* variables are the limited number of  discrete values. The binary (yes / no) variable, also called *indicator* variable, is a special case of a factor variable. Since regression need numerical inputs, factor variables need to be recoded to use in the model. The most common approach is to convert a variable into a set of binary *dummy* variables.\n",
    "\n",
    "__*Dummy variables*__ <br>\n",
    "Binary variables derived by recoding factor data for use in regression and other models.\n",
    "\n",
    "__*Reference coding*__ <br>\n",
    "The most common type of coding used by statisticians, in which one level of a factor is used as a reference and other factors are compared to that level. *Synonym:* treatment coding\n",
    "\n",
    "__*One hot encoder*__ <br>\n",
    "A common type of coding used in the machine learning community in which all factor levels are retained. While useful for certain machine learning algorithms, this approach is not appropriate for multiple linear regression.\n",
    "\n",
    "__*Deviation coding*__ <br>\n",
    "A type of coding that compares each level against the overall mean as opposed to the reference level. *Synonym:* sum contrasts"
   ]
  },
  {
   "cell_type": "code",
   "execution_count": 64,
   "metadata": {},
   "outputs": [],
   "source": [
    "import numpy as np\n",
    "import pandas as pd\n",
    "import matplotlib.pyplot as plt\n",
    "%matplotlib inline\n",
    "import seaborn as sns\n",
    "from sklearn.metrics import mean_absolute_error, mean_squared_error, r2_score\n",
    "from sklearn.linear_model import LinearRegression\n",
    "from sklearn.model_selection import train_test_split\n",
    "from sklearn.preprocessing import MinMaxScaler"
   ]
  },
  {
   "cell_type": "code",
   "execution_count": 65,
   "metadata": {},
   "outputs": [
    {
     "name": "stdout",
     "output_type": "stream",
     "text": [
      "<class 'pandas.core.frame.DataFrame'>\n",
      "RangeIndex: 205 entries, 0 to 204\n",
      "Data columns (total 26 columns):\n",
      " #   Column            Non-Null Count  Dtype  \n",
      "---  ------            --------------  -----  \n",
      " 0   car_ID            205 non-null    int64  \n",
      " 1   symboling         205 non-null    int64  \n",
      " 2   CarName           205 non-null    object \n",
      " 3   fueltype          205 non-null    object \n",
      " 4   aspiration        205 non-null    object \n",
      " 5   doornumber        205 non-null    object \n",
      " 6   carbody           205 non-null    object \n",
      " 7   drivewheel        205 non-null    object \n",
      " 8   enginelocation    205 non-null    object \n",
      " 9   wheelbase         205 non-null    float64\n",
      " 10  carlength         205 non-null    float64\n",
      " 11  carwidth          205 non-null    float64\n",
      " 12  carheight         205 non-null    float64\n",
      " 13  curbweight        205 non-null    int64  \n",
      " 14  enginetype        205 non-null    object \n",
      " 15  cylindernumber    205 non-null    object \n",
      " 16  enginesize        205 non-null    int64  \n",
      " 17  fuelsystem        205 non-null    object \n",
      " 18  boreratio         205 non-null    float64\n",
      " 19  stroke            205 non-null    float64\n",
      " 20  compressionratio  205 non-null    float64\n",
      " 21  horsepower        205 non-null    int64  \n",
      " 22  peakrpm           205 non-null    int64  \n",
      " 23  citympg           205 non-null    int64  \n",
      " 24  highwaympg        205 non-null    int64  \n",
      " 25  price             205 non-null    float64\n",
      "dtypes: float64(8), int64(8), object(10)\n",
      "memory usage: 41.8+ KB\n"
     ]
    },
    {
     "data": {
      "text/plain": [
       "array(['alfa-romero giulia', 'alfa-romero stelvio',\n",
       "       'alfa-romero Quadrifoglio', 'audi 100 ls', 'audi 100ls',\n",
       "       'audi fox', 'audi 5000', 'audi 4000', 'audi 5000s (diesel)',\n",
       "       'bmw 320i', 'bmw x1', 'bmw x3', 'bmw z4', 'bmw x4', 'bmw x5',\n",
       "       'chevrolet impala', 'chevrolet monte carlo', 'chevrolet vega 2300',\n",
       "       'dodge rampage', 'dodge challenger se', 'dodge d200',\n",
       "       'dodge monaco (sw)', 'dodge colt hardtop', 'dodge colt (sw)',\n",
       "       'dodge coronet custom', 'dodge dart custom',\n",
       "       'dodge coronet custom (sw)', 'honda civic', 'honda civic cvcc',\n",
       "       'honda accord cvcc', 'honda accord lx', 'honda civic 1500 gl',\n",
       "       'honda accord', 'honda civic 1300', 'honda prelude',\n",
       "       'honda civic (auto)', 'isuzu MU-X', 'isuzu D-Max ',\n",
       "       'isuzu D-Max V-Cross', 'jaguar xj', 'jaguar xf', 'jaguar xk',\n",
       "       'maxda rx3', 'maxda glc deluxe', 'mazda rx2 coupe', 'mazda rx-4',\n",
       "       'mazda glc deluxe', 'mazda 626', 'mazda glc', 'mazda rx-7 gs',\n",
       "       'mazda glc 4', 'mazda glc custom l', 'mazda glc custom',\n",
       "       'buick electra 225 custom', 'buick century luxus (sw)',\n",
       "       'buick century', 'buick skyhawk', 'buick opel isuzu deluxe',\n",
       "       'buick skylark', 'buick century special',\n",
       "       'buick regal sport coupe (turbo)', 'mercury cougar',\n",
       "       'mitsubishi mirage', 'mitsubishi lancer', 'mitsubishi outlander',\n",
       "       'mitsubishi g4', 'mitsubishi mirage g4', 'mitsubishi montero',\n",
       "       'mitsubishi pajero', 'Nissan versa', 'nissan gt-r', 'nissan rogue',\n",
       "       'nissan latio', 'nissan titan', 'nissan leaf', 'nissan juke',\n",
       "       'nissan note', 'nissan clipper', 'nissan nv200', 'nissan dayz',\n",
       "       'nissan fuga', 'nissan otti', 'nissan teana', 'nissan kicks',\n",
       "       'peugeot 504', 'peugeot 304', 'peugeot 504 (sw)', 'peugeot 604sl',\n",
       "       'peugeot 505s turbo diesel', 'plymouth fury iii',\n",
       "       'plymouth cricket', 'plymouth satellite custom (sw)',\n",
       "       'plymouth fury gran sedan', 'plymouth valiant', 'plymouth duster',\n",
       "       'porsche macan', 'porcshce panamera', 'porsche cayenne',\n",
       "       'porsche boxter', 'renault 12tl', 'renault 5 gtl', 'saab 99e',\n",
       "       'saab 99le', 'saab 99gle', 'subaru', 'subaru dl', 'subaru brz',\n",
       "       'subaru baja', 'subaru r1', 'subaru r2', 'subaru trezia',\n",
       "       'subaru tribeca', 'toyota corona mark ii', 'toyota corona',\n",
       "       'toyota corolla 1200', 'toyota corona hardtop',\n",
       "       'toyota corolla 1600 (sw)', 'toyota carina', 'toyota mark ii',\n",
       "       'toyota corolla', 'toyota corolla liftback',\n",
       "       'toyota celica gt liftback', 'toyota corolla tercel',\n",
       "       'toyota corona liftback', 'toyota starlet', 'toyota tercel',\n",
       "       'toyota cressida', 'toyota celica gt', 'toyouta tercel',\n",
       "       'vokswagen rabbit', 'volkswagen 1131 deluxe sedan',\n",
       "       'volkswagen model 111', 'volkswagen type 3', 'volkswagen 411 (sw)',\n",
       "       'volkswagen super beetle', 'volkswagen dasher', 'vw dasher',\n",
       "       'vw rabbit', 'volkswagen rabbit', 'volkswagen rabbit custom',\n",
       "       'volvo 145e (sw)', 'volvo 144ea', 'volvo 244dl', 'volvo 245',\n",
       "       'volvo 264gl', 'volvo diesel', 'volvo 246'], dtype=object)"
      ]
     },
     "execution_count": 65,
     "metadata": {},
     "output_type": "execute_result"
    }
   ],
   "source": [
    "# We are to make a predictioin on the target variable, price\n",
    "car_prices = pd.read_csv(\"CarPrice.csv\")\n",
    "car_prices.shape # dimension of the data\n",
    "car_prices.info() # no missing value, NaN, Null\n",
    "car_prices.duplicated().sum() # No duplicated row(s)\n",
    "car_prices.nunique() # CarID is repetition of the index, can be dropped\n",
    "car_prices[\"CarName\"].unique() # A look at the brand names\n"
   ]
  },
  {
   "cell_type": "code",
   "execution_count": 66,
   "metadata": {},
   "outputs": [
    {
     "data": {
      "text/plain": [
       "array(['alfa-romero', 'audi', 'bmw', 'chevrolet', 'dodge', 'honda',\n",
       "       'isuzu', 'jaguar', 'maxda', 'mazda', 'buick', 'mercury',\n",
       "       'mitsubishi', 'Nissan', 'nissan', 'peugeot', 'plymouth', 'porsche',\n",
       "       'porcshce', 'renault', 'saab', 'subaru', 'toyota', 'toyouta',\n",
       "       'vokswagen', 'volkswagen', 'vw', 'volvo'], dtype=object)"
      ]
     },
     "execution_count": 66,
     "metadata": {},
     "output_type": "execute_result"
    }
   ],
   "source": [
    "car_prices[\"model\"] = [name.split(\" \")[0] for name in car_prices[\"CarName\"]]\n",
    "car_prices[\"model\"].unique() # Some typos, and abbreviations"
   ]
  },
  {
   "cell_type": "code",
   "execution_count": 67,
   "metadata": {},
   "outputs": [
    {
     "name": "stdout",
     "output_type": "stream",
     "text": [
      "We have 205 records, 24 predictors, and 1 output variable\n"
     ]
    }
   ],
   "source": [
    "# correct spellings, drop the Car_ID and CarName collumns\n",
    "car_prices[\"model\"] = car_prices[\"model\"].replace({\n",
    "    \"maxda\": \"mazda\",\n",
    "    \"Nissan\": \"nissan\",\n",
    "    \"porcshce\": \"porsche\",\n",
    "    \"toyouta\": \"toyota\",\n",
    "    \"vokswagen\": \"volkswagen\",\n",
    "    \"vw\": \"volkswagen\"\n",
    "})\n",
    "\n",
    "car_prices.drop([\"car_ID\", \"CarName\"], axis=1, inplace=True)\n",
    "\n",
    "# Therefore\n",
    "print(f\"We have {car_prices.shape[0]} records, {car_prices.shape[1]-1} predictors, and 1 output variable\")"
   ]
  },
  {
   "cell_type": "code",
   "execution_count": 68,
   "metadata": {},
   "outputs": [
    {
     "data": {
      "text/plain": [
       "Index(['fueltype', 'aspiration', 'doornumber', 'carbody', 'drivewheel',\n",
       "       'enginelocation', 'enginetype', 'cylindernumber', 'fuelsystem',\n",
       "       'model'],\n",
       "      dtype='object')"
      ]
     },
     "execution_count": 68,
     "metadata": {},
     "output_type": "execute_result"
    }
   ],
   "source": [
    "categorical = car_prices.select_dtypes(include=\"object\").columns # Categorical columns that will need to be decoded in to dummies\n",
    "categorical"
   ]
  },
  {
   "cell_type": "code",
   "execution_count": 69,
   "metadata": {},
   "outputs": [
    {
     "data": {
      "text/plain": [
       "<AxesSubplot:ylabel='Frequency'>"
      ]
     },
     "execution_count": 69,
     "metadata": {},
     "output_type": "execute_result"
    },
    {
     "data": {
      "image/png": "[encoded data removed]",
      "text/plain": [
       "<Figure size 576x288 with 1 Axes>"
      ]
     },
     "metadata": {
      "needs_background": "light"
     },
     "output_type": "display_data"
    }
   ],
   "source": [
    "# A little data exploring\n",
    "car_prices[\"price\"].plot(kind=\"hist\", bins=20, figsize= (8,4), xlabel=\"Price\", rwidth=.95) # The car prices are skewed to the right, which makes sense"
   ]
  },
  {
   "cell_type": "code",
   "execution_count": 70,
   "metadata": {},
   "outputs": [
    {
     "data": {
      "text/html": [
       "<div>\n",
       "<style scoped>\n",
       "    .dataframe tbody tr th:only-of-type {\n",
       "        vertical-align: middle;\n",
       "    }\n",
       "\n",
       "    .dataframe tbody tr th {\n",
       "        vertical-align: top;\n",
       "    }\n",
       "\n",
       "    .dataframe thead th {\n",
       "        text-align: right;\n",
       "    }\n",
       "</style>\n",
       "<table border=\"1\" class=\"dataframe\">\n",
       "  <thead>\n",
       "    <tr style=\"text-align: right;\">\n",
       "      <th></th>\n",
       "      <th>symboling</th>\n",
       "      <th>wheelbase</th>\n",
       "      <th>carlength</th>\n",
       "      <th>carwidth</th>\n",
       "      <th>carheight</th>\n",
       "      <th>curbweight</th>\n",
       "      <th>enginesize</th>\n",
       "      <th>boreratio</th>\n",
       "      <th>stroke</th>\n",
       "      <th>compressionratio</th>\n",
       "      <th>horsepower</th>\n",
       "      <th>peakrpm</th>\n",
       "      <th>citympg</th>\n",
       "      <th>highwaympg</th>\n",
       "    </tr>\n",
       "  </thead>\n",
       "  <tbody>\n",
       "    <tr>\n",
       "      <th>count</th>\n",
       "      <td>205.000</td>\n",
       "      <td>205.000</td>\n",
       "      <td>205.000</td>\n",
       "      <td>205.000</td>\n",
       "      <td>205.000</td>\n",
       "      <td>205.000</td>\n",
       "      <td>205.000</td>\n",
       "      <td>205.000</td>\n",
       "      <td>205.000</td>\n",
       "      <td>205.000</td>\n",
       "      <td>205.000</td>\n",
       "      <td>205.000</td>\n",
       "      <td>205.000</td>\n",
       "      <td>205.000</td>\n",
       "    </tr>\n",
       "    <tr>\n",
       "      <th>mean</th>\n",
       "      <td>0.834</td>\n",
       "      <td>98.757</td>\n",
       "      <td>174.049</td>\n",
       "      <td>65.908</td>\n",
       "      <td>53.725</td>\n",
       "      <td>2555.566</td>\n",
       "      <td>126.907</td>\n",
       "      <td>3.330</td>\n",
       "      <td>3.255</td>\n",
       "      <td>10.143</td>\n",
       "      <td>104.117</td>\n",
       "      <td>5125.122</td>\n",
       "      <td>25.220</td>\n",
       "      <td>30.751</td>\n",
       "    </tr>\n",
       "    <tr>\n",
       "      <th>std</th>\n",
       "      <td>1.245</td>\n",
       "      <td>6.022</td>\n",
       "      <td>12.337</td>\n",
       "      <td>2.145</td>\n",
       "      <td>2.444</td>\n",
       "      <td>520.680</td>\n",
       "      <td>41.643</td>\n",
       "      <td>0.271</td>\n",
       "      <td>0.314</td>\n",
       "      <td>3.972</td>\n",
       "      <td>39.544</td>\n",
       "      <td>476.986</td>\n",
       "      <td>6.542</td>\n",
       "      <td>6.886</td>\n",
       "    </tr>\n",
       "    <tr>\n",
       "      <th>min</th>\n",
       "      <td>-2.000</td>\n",
       "      <td>86.600</td>\n",
       "      <td>141.100</td>\n",
       "      <td>60.300</td>\n",
       "      <td>47.800</td>\n",
       "      <td>1488.000</td>\n",
       "      <td>61.000</td>\n",
       "      <td>2.540</td>\n",
       "      <td>2.070</td>\n",
       "      <td>7.000</td>\n",
       "      <td>48.000</td>\n",
       "      <td>4150.000</td>\n",
       "      <td>13.000</td>\n",
       "      <td>16.000</td>\n",
       "    </tr>\n",
       "    <tr>\n",
       "      <th>25%</th>\n",
       "      <td>0.000</td>\n",
       "      <td>94.500</td>\n",
       "      <td>166.300</td>\n",
       "      <td>64.100</td>\n",
       "      <td>52.000</td>\n",
       "      <td>2145.000</td>\n",
       "      <td>97.000</td>\n",
       "      <td>3.150</td>\n",
       "      <td>3.110</td>\n",
       "      <td>8.600</td>\n",
       "      <td>70.000</td>\n",
       "      <td>4800.000</td>\n",
       "      <td>19.000</td>\n",
       "      <td>25.000</td>\n",
       "    </tr>\n",
       "    <tr>\n",
       "      <th>50%</th>\n",
       "      <td>1.000</td>\n",
       "      <td>97.000</td>\n",
       "      <td>173.200</td>\n",
       "      <td>65.500</td>\n",
       "      <td>54.100</td>\n",
       "      <td>2414.000</td>\n",
       "      <td>120.000</td>\n",
       "      <td>3.310</td>\n",
       "      <td>3.290</td>\n",
       "      <td>9.000</td>\n",
       "      <td>95.000</td>\n",
       "      <td>5200.000</td>\n",
       "      <td>24.000</td>\n",
       "      <td>30.000</td>\n",
       "    </tr>\n",
       "    <tr>\n",
       "      <th>75%</th>\n",
       "      <td>2.000</td>\n",
       "      <td>102.400</td>\n",
       "      <td>183.100</td>\n",
       "      <td>66.900</td>\n",
       "      <td>55.500</td>\n",
       "      <td>2935.000</td>\n",
       "      <td>141.000</td>\n",
       "      <td>3.580</td>\n",
       "      <td>3.410</td>\n",
       "      <td>9.400</td>\n",
       "      <td>116.000</td>\n",
       "      <td>5500.000</td>\n",
       "      <td>30.000</td>\n",
       "      <td>34.000</td>\n",
       "    </tr>\n",
       "    <tr>\n",
       "      <th>max</th>\n",
       "      <td>3.000</td>\n",
       "      <td>120.900</td>\n",
       "      <td>208.100</td>\n",
       "      <td>72.300</td>\n",
       "      <td>59.800</td>\n",
       "      <td>4066.000</td>\n",
       "      <td>326.000</td>\n",
       "      <td>3.940</td>\n",
       "      <td>4.170</td>\n",
       "      <td>23.000</td>\n",
       "      <td>288.000</td>\n",
       "      <td>6600.000</td>\n",
       "      <td>49.000</td>\n",
       "      <td>54.000</td>\n",
       "    </tr>\n",
       "  </tbody>\n",
       "</table>\n",
       "</div>"
      ],
      "text/plain": [
       "       symboling  wheelbase  carlength  carwidth  carheight  curbweight  \\\n",
       "count    205.000    205.000    205.000   205.000    205.000     205.000   \n",
       "mean       0.834     98.757    174.049    65.908     53.725    2555.566   \n",
       "std        1.245      6.022     12.337     2.145      2.444     520.680   \n",
       "min       -2.000     86.600    141.100    60.300     47.800    1488.000   \n",
       "25%        0.000     94.500    166.300    64.100     52.000    2145.000   \n",
       "50%        1.000     97.000    173.200    65.500     54.100    2414.000   \n",
       "75%        2.000    102.400    183.100    66.900     55.500    2935.000   \n",
       "max        3.000    120.900    208.100    72.300     59.800    4066.000   \n",
       "\n",
       "       enginesize  boreratio  stroke  compressionratio  horsepower  peakrpm  \\\n",
       "count     205.000    205.000 205.000           205.000     205.000  205.000   \n",
       "mean      126.907      3.330   3.255            10.143     104.117 5125.122   \n",
       "std        41.643      0.271   0.314             3.972      39.544  476.986   \n",
       "min        61.000      2.540   2.070             7.000      48.000 4150.000   \n",
       "25%        97.000      3.150   3.110             8.600      70.000 4800.000   \n",
       "50%       120.000      3.310   3.290             9.000      95.000 5200.000   \n",
       "75%       141.000      3.580   3.410             9.400     116.000 5500.000   \n",
       "max       326.000      3.940   4.170            23.000     288.000 6600.000   \n",
       "\n",
       "       citympg  highwaympg  \n",
       "count  205.000     205.000  \n",
       "mean    25.220      30.751  \n",
       "std      6.542       6.886  \n",
       "min     13.000      16.000  \n",
       "25%     19.000      25.000  \n",
       "50%     24.000      30.000  \n",
       "75%     30.000      34.000  \n",
       "max     49.000      54.000  "
      ]
     },
     "execution_count": 70,
     "metadata": {},
     "output_type": "execute_result"
    }
   ],
   "source": [
    "car_prices.drop(\"price\", axis=1).describe()"
   ]
  },
  {
   "cell_type": "code",
   "execution_count": 71,
   "metadata": {},
   "outputs": [
    {
     "data": {
      "text/plain": [
       "doornumber\n",
       "four   13501.152\n",
       "two    12989.924\n",
       "Name: price, dtype: float64"
      ]
     },
     "execution_count": 71,
     "metadata": {},
     "output_type": "execute_result"
    }
   ],
   "source": [
    "car_prices.groupby(\"doornumber\")[\"price\"].mean() # On average, cars with four doors are more expensive"
   ]
  },
  {
   "cell_type": "code",
   "execution_count": 72,
   "metadata": {},
   "outputs": [
    {
     "data": {
      "text/plain": [
       "<AxesSubplot:>"
      ]
     },
     "execution_count": 72,
     "metadata": {},
     "output_type": "execute_result"
    },
    {
     "data": {
      "image/png": "[encoded data removed]",
      "text/plain": [
       "<Figure size 1512x648 with 2 Axes>"
      ]
     },
     "metadata": {
      "needs_background": "light"
     },
     "output_type": "display_data"
    }
   ],
   "source": [
    "\n",
    "plt.figure(figsize=(21,9))\n",
    "sns.heatmap(data=car_prices.corr(), annot=True) # Correlation heatmap between the variables. citympg and highwaympg are very closely correlated. Should drop one of them later to avoid collinearity"
   ]
  },
  {
   "cell_type": "code",
   "execution_count": 73,
   "metadata": {},
   "outputs": [
    {
     "data": {
      "text/plain": [
       "carbody\n",
       "convertible   21890.500\n",
       "hardtop       22208.500\n",
       "hatchback     10376.652\n",
       "sedan         14344.271\n",
       "wagon         12371.960\n",
       "Name: price, dtype: float64"
      ]
     },
     "execution_count": 73,
     "metadata": {},
     "output_type": "execute_result"
    }
   ],
   "source": [
    "car_prices.groupby(\"carbody\")[\"price\"].mean()"
   ]
  },
  {
   "cell_type": "code",
   "execution_count": 74,
   "metadata": {},
   "outputs": [
    {
     "data": {
      "text/plain": [
       "enginetype\n",
       "ohc     11574.048\n",
       "rotor   13020.000\n",
       "ohcf    13738.600\n",
       "l       14627.583\n",
       "dohc    18116.417\n",
       "ohcv    25098.385\n",
       "dohcv   31400.500\n",
       "Name: price, dtype: float64"
      ]
     },
     "execution_count": 74,
     "metadata": {},
     "output_type": "execute_result"
    }
   ],
   "source": [
    "car_prices.groupby(\"enginetype\")[\"price\"].mean().sort_values()"
   ]
  },
  {
   "cell_type": "code",
   "execution_count": 75,
   "metadata": {},
   "outputs": [
    {
     "data": {
      "text/plain": [
       "(205, 65)"
      ]
     },
     "execution_count": 75,
     "metadata": {},
     "output_type": "execute_result"
    }
   ],
   "source": [
    "car_prices = pd.get_dummies(car_prices, columns=categorical, drop_first=True) # The categorical columns are converted into binary variables\n",
    "car_prices.shape"
   ]
  },
  {
   "cell_type": "code",
   "execution_count": 76,
   "metadata": {},
   "outputs": [
    {
     "data": {
      "text/plain": [
       "Index(['symboling', 'wheelbase', 'carlength', 'carwidth', 'carheight',\n",
       "       'curbweight', 'enginesize', 'boreratio', 'stroke', 'compressionratio',\n",
       "       'horsepower', 'peakrpm', 'citympg', 'highwaympg', 'price',\n",
       "       'fueltype_gas', 'aspiration_turbo', 'doornumber_two', 'carbody_hardtop',\n",
       "       'carbody_hatchback', 'carbody_sedan', 'carbody_wagon', 'drivewheel_fwd',\n",
       "       'drivewheel_rwd', 'enginelocation_rear', 'enginetype_dohcv',\n",
       "       'enginetype_l', 'enginetype_ohc', 'enginetype_ohcf', 'enginetype_ohcv',\n",
       "       'enginetype_rotor', 'cylindernumber_five', 'cylindernumber_four',\n",
       "       'cylindernumber_six', 'cylindernumber_three', 'cylindernumber_twelve',\n",
       "       'cylindernumber_two', 'fuelsystem_2bbl', 'fuelsystem_4bbl',\n",
       "       'fuelsystem_idi', 'fuelsystem_mfi', 'fuelsystem_mpfi',\n",
       "       'fuelsystem_spdi', 'fuelsystem_spfi', 'model_audi', 'model_bmw',\n",
       "       'model_buick', 'model_chevrolet', 'model_dodge', 'model_honda',\n",
       "       'model_isuzu', 'model_jaguar', 'model_mazda', 'model_mercury',\n",
       "       'model_mitsubishi', 'model_nissan', 'model_peugeot', 'model_plymouth',\n",
       "       'model_porsche', 'model_renault', 'model_saab', 'model_subaru',\n",
       "       'model_toyota', 'model_volkswagen', 'model_volvo'],\n",
       "      dtype='object')"
      ]
     },
     "execution_count": 76,
     "metadata": {},
     "output_type": "execute_result"
    }
   ],
   "source": [
    "car_prices.columns "
   ]
  },
  {
   "cell_type": "code",
   "execution_count": 77,
   "metadata": {},
   "outputs": [],
   "source": [
    "# Predictors and the response\n",
    "X = car_prices.drop(columns=[\"citympg\", \"price\"])\n",
    "y = car_prices[\"price\"]"
   ]
  },
  {
   "cell_type": "code",
   "execution_count": 78,
   "metadata": {},
   "outputs": [
    {
     "name": "stdout",
     "output_type": "stream",
     "text": [
      "Shape of the training predictor set: (137, 63)\n",
      "Shape of the training target set: (137,)\n",
      "Shape of the testing predictor set: (68, 63)\n",
      "Shape of the testing target set: (68,)\n"
     ]
    }
   ],
   "source": [
    "# Split train and test subsets\n",
    "X_train, X_test, y_train, y_test = train_test_split(X, y, test_size=0.33, random_state=42)\n",
    "\n",
    "print(f\"Shape of the training predictor set: {X_train.shape}\")\n",
    "print(f\"Shape of the training target set: {y_train.shape}\")\n",
    "print(f\"Shape of the testing predictor set: {X_test.shape}\")\n",
    "print(f\"Shape of the testing target set: {y_test.shape}\")"
   ]
  },
  {
   "cell_type": "code",
   "execution_count": 79,
   "metadata": {},
   "outputs": [],
   "source": [
    "# Sklearn preprocessing to standardize the dataset\n",
    "# Since there are dummy variables MinMaxScaler is good for scaling the features\n",
    "scaler = MinMaxScaler()\n",
    "\n",
    "X_train_scaled = scaler.fit_transform(X_train)\n",
    "X_test_scaled = scaler.transform(X_test)"
   ]
  },
  {
   "cell_type": "code",
   "execution_count": 80,
   "metadata": {},
   "outputs": [
    {
     "data": {
      "text/plain": [
       "LinearRegression()"
      ]
     },
     "execution_count": 80,
     "metadata": {},
     "output_type": "execute_result"
    }
   ],
   "source": [
    "# Fitting a linear model\n",
    "ln_model = LinearRegression()\n",
    "ln_model.fit(X_train_scaled, y_train)"
   ]
  },
  {
   "cell_type": "code",
   "execution_count": 81,
   "metadata": {},
   "outputs": [],
   "source": [
    "y_pred = ln_model.predict(X_test_scaled) # predictions of prices based on test feature set\n",
    "y_train_pred = ln_model.predict(X_train_scaled)"
   ]
  },
  {
   "cell_type": "code",
   "execution_count": 82,
   "metadata": {},
   "outputs": [
    {
     "data": {
      "text/html": [
       "<div>\n",
       "<style scoped>\n",
       "    .dataframe tbody tr th:only-of-type {\n",
       "        vertical-align: middle;\n",
       "    }\n",
       "\n",
       "    .dataframe tbody tr th {\n",
       "        vertical-align: top;\n",
       "    }\n",
       "\n",
       "    .dataframe thead th {\n",
       "        text-align: right;\n",
       "    }\n",
       "</style>\n",
       "<table border=\"1\" class=\"dataframe\">\n",
       "  <thead>\n",
       "    <tr style=\"text-align: right;\">\n",
       "      <th></th>\n",
       "      <th>train_set</th>\n",
       "      <th>test_set</th>\n",
       "    </tr>\n",
       "  </thead>\n",
       "  <tbody>\n",
       "    <tr>\n",
       "      <th>R2</th>\n",
       "      <td>0.978</td>\n",
       "      <td>0.891</td>\n",
       "    </tr>\n",
       "    <tr>\n",
       "      <th>mae</th>\n",
       "      <td>913.650</td>\n",
       "      <td>1816.311</td>\n",
       "    </tr>\n",
       "    <tr>\n",
       "      <th>mse</th>\n",
       "      <td>1359602.563</td>\n",
       "      <td>7153488.167</td>\n",
       "    </tr>\n",
       "    <tr>\n",
       "      <th>rmse</th>\n",
       "      <td>1166.020</td>\n",
       "      <td>2674.601</td>\n",
       "    </tr>\n",
       "  </tbody>\n",
       "</table>\n",
       "</div>"
      ],
      "text/plain": [
       "       train_set    test_set\n",
       "R2         0.978       0.891\n",
       "mae      913.650    1816.311\n",
       "mse  1359602.563 7153488.167\n",
       "rmse    1166.020    2674.601"
      ]
     },
     "execution_count": 82,
     "metadata": {},
     "output_type": "execute_result"
    }
   ],
   "source": [
    "def train_val(y_train, y_train_pred, y_test, y_pred):\n",
    "    \n",
    "    scores = {\"train_set\": {\"R2\" : r2_score(y_train, y_train_pred),\n",
    "    \"mae\" : mean_absolute_error(y_train, y_train_pred),\n",
    "    \"mse\" : mean_squared_error(y_train, y_train_pred),                          \n",
    "    \"rmse\" : np.sqrt(mean_squared_error(y_train, y_train_pred))},\n",
    "    \n",
    "    \"test_set\": {\"R2\" : r2_score(y_test, y_pred),\n",
    "    \"mae\" : mean_absolute_error(y_test, y_pred),\n",
    "    \"mse\" : mean_squared_error(y_test, y_pred),\n",
    "    \"rmse\" : np.sqrt(mean_squared_error(y_test, y_pred))}}\n",
    "    \n",
    "    return pd.DataFrame(scores)\n",
    "\n",
    "pd.options.display.float_format = \"{:.3f}\".format\n",
    "train_val(y_train, y_train_pred, y_test, y_pred)"
   ]
  },
  {
   "cell_type": "code",
   "execution_count": 83,
   "metadata": {},
   "outputs": [
    {
     "data": {
      "text/plain": [
       "<AxesSubplot:ylabel='Frequency'>"
      ]
     },
     "execution_count": 83,
     "metadata": {},
     "output_type": "execute_result"
    },
    {
     "data": {
      "image/png": "[encoded data removed]",
      "text/plain": [
       "<Figure size 432x288 with 1 Axes>"
      ]
     },
     "metadata": {
      "needs_background": "light"
     },
     "output_type": "display_data"
    }
   ],
   "source": [
    "pd.DataFrame({\n",
    "    \"y_test\": y_test,\n",
    "    \"y_pred\": y_pred\n",
    "}).plot(kind=\"hist\")"
   ]
  },
  {
   "cell_type": "markdown",
   "metadata": {},
   "source": [
    "### __Interpreting the Regression Equation__"
   ]
  },
  {
   "cell_type": "markdown",
   "metadata": {},
   "source": [
    "While the most important use of regression to a data scientist is to predict some dependent variable. It may be of great value if you can gain insight from the nature of the relationship between the predictors and the outcome.\n",
    "\n",
    "__*Correlated variables*__ <br>\n",
    "When the predictor variables are highly correlated, it is difficult to interpret the individual coefficients.\n",
    "\n",
    "__*Multicollinearity*__ <br>\n",
    "When the predictor variables have perfect, or near-perfect, correlation, the regression can be unstable or impossible to compute. *Synonym:* collinearity\n",
    "\n",
    "__*Confounding variables*__ <br>\n",
    "An important predictor that, when omitted, leads to spurious relationships in a regression equation.\n",
    "\n",
    "__*Main effects*__ <br>\n",
    "The relationship between a predictor and the outcome variable, independent of other variables.\n",
    "\n",
    "__*Interactions*__ <br>\n",
    "An interdependent relationship between two or more predictors and the response."
   ]
  },
  {
   "cell_type": "markdown",
   "metadata": {},
   "source": [
    "An extreme case of correlated variables produces multicollinearity: There is reduncdance among the predictor variables. Multiicollinearity occurs when:\n",
    "\n",
    "* A variable is included multiple times by error.\n",
    "* *P* dummies, instead of *P - 1* dummies, are created from a factor variable.\n",
    "* Two variables are nearly perfectly correlated with one another.\n",
    "\n",
    "Multicollinearity in regression must be addressed; variables must be removed until the multicollinearity is gone. \n",
    "\n",
    "> Multicollinearity is not such a problem for non-linear regression methods like trees, clustering, and nearest-neighboouts. In such methods it may be okay to keep P dummies, instead of P - 1. That said, even with those methods, non-redundancy in predictor variables is still a virtue."
   ]
  },
  {
   "cell_type": "markdown",
   "metadata": {},
   "source": [
    "### __Regression Diagnostics__"
   ]
  },
  {
   "cell_type": "markdown",
   "metadata": {},
   "source": [
    "Steps are taken to assess how well the model fits the data; normally based on the analysis of the residuals (minimizing them). These steps do not directly address predictive accuracy, but they can provide usefull insight in a predictive setting.\n",
    "\n",
    "__*Standardized residuals*__ <br>\n",
    "Residuals divided by the standard error of the residuals.\n",
    "\n",
    "__*Outliers*__ <br>\n",
    "Records, or outcome values, that are distant from the rest of the data (or the predicted outcome).\n",
    "\n",
    "__*Leberage*__ <br>\n",
    "The degree of influence that a single record has on a regression equation.\n",
    "\n",
    "__*Non-normal residuals*__ <br>\n",
    "Non-normally distributed residuals can invalidate some technical requirements of regression but are usually not a concern in data science.\n",
    "\n",
    "__*Heteroskedasticity*__ <br>\n",
    "When some ranges of the outcome experience residuals with higher variance (may indicate a predictor missing from the equation).\n",
    "\n",
    "__*Partial residual plots*__ <br>\n",
    "A diagnostic plot to illuminate the relationship between the outcome variable and a single predictor. *Synonym:* added variables plot"
   ]
  },
  {
   "cell_type": "markdown",
   "metadata": {},
   "source": [
    "Just how outliers need to be handled for estimates of location and variability, outliers can cause problems with regression models. In regression, an outlier is a record whose actual $y$ value is distant from the predicted value. You can detect outliers by looking into the *standardized residual*.\n",
    "\n",
    "For most problems, data scientists do not need to be too concerned with the distribution of the residuals. The distribution of residuals is relevant mainly for the validity of formal statistical inference (hypothesis tests, p-values), which is minimal importance to data scientists concerned wtih predictive accuracy. One area where this may be of concern to data scientists is the standard calculation of confidence intervals for predicted values, which are based on the assumptions about the residuals. \n",
    "\n",
    "The data has heteroskedastic errors when the variance of the residuals is not constant. Example:\n",
    "<p align=center>\n",
    "<img src=\"heteroskedasticity.jpg\" alt=\"Heteroskedastiity\" width=300>\n",
    "</p>\n",
    "\n",
    "The partial residual plot can be used to qualitatively assess the fit for each regression term, possibly leading to alternative model specification."
   ]
  },
  {
   "cell_type": "markdown",
   "metadata": {},
   "source": [
    "### __Polynomial and Spline Regression__"
   ]
  },
  {
   "cell_type": "markdown",
   "metadata": {},
   "source": [
    "The relationship between the response and the predictor isn't necessarily linear (demand / sales of a product is not a linear response to the marketing dolars spent.)\n",
    "\n",
    "__*Polynomial regression*__ <br>\n",
    "Adds polynomial terms (squares, cubes, etc) to a regression.\n",
    "\n",
    "__*Spline regression*__ <br>\n",
    "Fitting a smooth curve with a series of polynomial segments.\n",
    "\n",
    "__*Knots*__ <br>\n",
    "Values that separate spline segments.\n",
    "\n",
    "__*Generalized additive models*__ <br>\n",
    "Spline models with automated selection of knots. *Synonym:* GAM"
   ]
  },
  {
   "cell_type": "markdown",
   "metadata": {},
   "source": [
    "Polynomial regression involves including polynomial terms in the equation"
   ]
  }
 ],
 "metadata": {
  "interpreter": {
   "hash": "56441ffb59644a9c4e5b5e5721099150282382bd6f05155f8a59ac531bb5bc5e"
  },
  "kernelspec": {
   "display_name": "Python 3.9.7 64-bit ('simple_ds': conda)",
   "name": "python3"
  },
  "language_info": {
   "codemirror_mode": {
    "name": "ipython",
    "version": 3
   },
   "file_extension": ".py",
   "mimetype": "text/x-python",
   "name": "python",
   "nbconvert_exporter": "python",
   "pygments_lexer": "ipython3",
   "version": "3.9.7"
  },
  "orig_nbformat": 4
 },
 "nbformat": 4,
 "nbformat_minor": 2
}
